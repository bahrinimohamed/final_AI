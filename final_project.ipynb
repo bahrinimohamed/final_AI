{
 "cells": [
  {
   "cell_type": "markdown",
   "metadata": {},
   "source": [
    "# Preprocessing part"
   ]
  },
  {
   "cell_type": "code",
   "execution_count": 267,
   "metadata": {},
   "outputs": [
    {
     "name": "stdout",
     "output_type": "stream",
     "text": [
      "         Date   Time                            Location  \\\n",
      "0  09/17/1908  17:18                 Fort Myer, Virginia   \n",
      "1  07/12/1912  06:30             AtlantiCity, New Jersey   \n",
      "2  08/06/1913    NaN  Victoria, British Columbia, Canada   \n",
      "3  09/09/1913  18:30                  Over the North Sea   \n",
      "4  10/17/1913  10:30          Near Johannisthal, Germany   \n",
      "\n",
      "                 Operator Flight #          Route                    Type  \\\n",
      "0    Military - U.S. Army      NaN  Demonstration        Wright Flyer III   \n",
      "1    Military - U.S. Navy      NaN    Test flight               Dirigible   \n",
      "2                 Private        -            NaN        Curtiss seaplane   \n",
      "3  Military - German Navy      NaN            NaN  Zeppelin L-1 (airship)   \n",
      "4  Military - German Navy      NaN            NaN  Zeppelin L-2 (airship)   \n",
      "\n",
      "  Registration cn/In  Aboard  Fatalities  Ground  \\\n",
      "0          NaN     1     2.0         1.0     0.0   \n",
      "1          NaN   NaN     5.0         5.0     0.0   \n",
      "2          NaN   NaN     1.0         1.0     0.0   \n",
      "3          NaN   NaN    20.0        14.0     0.0   \n",
      "4          NaN   NaN    30.0        30.0     0.0   \n",
      "\n",
      "                                             Summary  \n",
      "0  During a demonstration flight, a U.S. Army fly...  \n",
      "1  First U.S. dirigible Akron exploded just offsh...  \n",
      "2  The first fatal airplane accident in Canada oc...  \n",
      "3  The airship flew into a thunderstorm and encou...  \n",
      "4  Hydrogen gas which was being vented was sucked...  \n"
     ]
    }
   ],
   "source": [
    "import pandas as pd\n",
    "df=pd.read_csv(r'C:\\Users\\SNB\\Desktop\\Airplane_Crashes.csv', sep=',')\n",
    "print(df.head())"
   ]
  },
  {
   "cell_type": "code",
   "execution_count": 268,
   "metadata": {},
   "outputs": [
    {
     "data": {
      "text/html": [
       "<div>\n",
       "<style scoped>\n",
       "    .dataframe tbody tr th:only-of-type {\n",
       "        vertical-align: middle;\n",
       "    }\n",
       "\n",
       "    .dataframe tbody tr th {\n",
       "        vertical-align: top;\n",
       "    }\n",
       "\n",
       "    .dataframe thead th {\n",
       "        text-align: right;\n",
       "    }\n",
       "</style>\n",
       "<table border=\"1\" class=\"dataframe\">\n",
       "  <thead>\n",
       "    <tr style=\"text-align: right;\">\n",
       "      <th></th>\n",
       "      <th>Date</th>\n",
       "      <th>Time</th>\n",
       "      <th>Location</th>\n",
       "      <th>Operator</th>\n",
       "      <th>Flight #</th>\n",
       "      <th>Route</th>\n",
       "      <th>Type</th>\n",
       "      <th>Registration</th>\n",
       "      <th>cn/In</th>\n",
       "      <th>Aboard</th>\n",
       "      <th>Fatalities</th>\n",
       "      <th>Ground</th>\n",
       "      <th>Summary</th>\n",
       "    </tr>\n",
       "  </thead>\n",
       "  <tbody>\n",
       "    <tr>\n",
       "      <th>0</th>\n",
       "      <td>09/17/1908</td>\n",
       "      <td>17:18</td>\n",
       "      <td>Fort Myer, Virginia</td>\n",
       "      <td>Military - U.S. Army</td>\n",
       "      <td>NaN</td>\n",
       "      <td>Demonstration</td>\n",
       "      <td>Wright Flyer III</td>\n",
       "      <td>NaN</td>\n",
       "      <td>1</td>\n",
       "      <td>2.0</td>\n",
       "      <td>1.0</td>\n",
       "      <td>0.0</td>\n",
       "      <td>During a demonstration flight, a U.S. Army fly...</td>\n",
       "    </tr>\n",
       "    <tr>\n",
       "      <th>1</th>\n",
       "      <td>07/12/1912</td>\n",
       "      <td>06:30</td>\n",
       "      <td>AtlantiCity, New Jersey</td>\n",
       "      <td>Military - U.S. Navy</td>\n",
       "      <td>NaN</td>\n",
       "      <td>Test flight</td>\n",
       "      <td>Dirigible</td>\n",
       "      <td>NaN</td>\n",
       "      <td>NaN</td>\n",
       "      <td>5.0</td>\n",
       "      <td>5.0</td>\n",
       "      <td>0.0</td>\n",
       "      <td>First U.S. dirigible Akron exploded just offsh...</td>\n",
       "    </tr>\n",
       "    <tr>\n",
       "      <th>2</th>\n",
       "      <td>08/06/1913</td>\n",
       "      <td>NaN</td>\n",
       "      <td>Victoria, British Columbia, Canada</td>\n",
       "      <td>Private</td>\n",
       "      <td>-</td>\n",
       "      <td>NaN</td>\n",
       "      <td>Curtiss seaplane</td>\n",
       "      <td>NaN</td>\n",
       "      <td>NaN</td>\n",
       "      <td>1.0</td>\n",
       "      <td>1.0</td>\n",
       "      <td>0.0</td>\n",
       "      <td>The first fatal airplane accident in Canada oc...</td>\n",
       "    </tr>\n",
       "    <tr>\n",
       "      <th>3</th>\n",
       "      <td>09/09/1913</td>\n",
       "      <td>18:30</td>\n",
       "      <td>Over the North Sea</td>\n",
       "      <td>Military - German Navy</td>\n",
       "      <td>NaN</td>\n",
       "      <td>NaN</td>\n",
       "      <td>Zeppelin L-1 (airship)</td>\n",
       "      <td>NaN</td>\n",
       "      <td>NaN</td>\n",
       "      <td>20.0</td>\n",
       "      <td>14.0</td>\n",
       "      <td>0.0</td>\n",
       "      <td>The airship flew into a thunderstorm and encou...</td>\n",
       "    </tr>\n",
       "    <tr>\n",
       "      <th>4</th>\n",
       "      <td>10/17/1913</td>\n",
       "      <td>10:30</td>\n",
       "      <td>Near Johannisthal, Germany</td>\n",
       "      <td>Military - German Navy</td>\n",
       "      <td>NaN</td>\n",
       "      <td>NaN</td>\n",
       "      <td>Zeppelin L-2 (airship)</td>\n",
       "      <td>NaN</td>\n",
       "      <td>NaN</td>\n",
       "      <td>30.0</td>\n",
       "      <td>30.0</td>\n",
       "      <td>0.0</td>\n",
       "      <td>Hydrogen gas which was being vented was sucked...</td>\n",
       "    </tr>\n",
       "    <tr>\n",
       "      <th>...</th>\n",
       "      <td>...</td>\n",
       "      <td>...</td>\n",
       "      <td>...</td>\n",
       "      <td>...</td>\n",
       "      <td>...</td>\n",
       "      <td>...</td>\n",
       "      <td>...</td>\n",
       "      <td>...</td>\n",
       "      <td>...</td>\n",
       "      <td>...</td>\n",
       "      <td>...</td>\n",
       "      <td>...</td>\n",
       "      <td>...</td>\n",
       "    </tr>\n",
       "    <tr>\n",
       "      <th>5263</th>\n",
       "      <td>05/20/2009</td>\n",
       "      <td>06:30</td>\n",
       "      <td>Near Madiun, Indonesia</td>\n",
       "      <td>Military - Indonesian Air Force</td>\n",
       "      <td>NaN</td>\n",
       "      <td>Jakarta - Maduin</td>\n",
       "      <td>Lockheed C-130 Hercules</td>\n",
       "      <td>A-1325</td>\n",
       "      <td>1982</td>\n",
       "      <td>112.0</td>\n",
       "      <td>98.0</td>\n",
       "      <td>2.0</td>\n",
       "      <td>While on approach, the military transport cras...</td>\n",
       "    </tr>\n",
       "    <tr>\n",
       "      <th>5264</th>\n",
       "      <td>05/26/2009</td>\n",
       "      <td>NaN</td>\n",
       "      <td>Near Isiro, DemocratiRepubliCongo</td>\n",
       "      <td>Service Air</td>\n",
       "      <td>NaN</td>\n",
       "      <td>Goma - Isiro</td>\n",
       "      <td>Antonov An-26</td>\n",
       "      <td>9Q-CSA</td>\n",
       "      <td>5005</td>\n",
       "      <td>4.0</td>\n",
       "      <td>4.0</td>\n",
       "      <td>NaN</td>\n",
       "      <td>The cargo plane crashed while on approach to I...</td>\n",
       "    </tr>\n",
       "    <tr>\n",
       "      <th>5265</th>\n",
       "      <td>06/01/2009</td>\n",
       "      <td>00:15</td>\n",
       "      <td>AtlantiOcean, 570 miles northeast of Natal, Br...</td>\n",
       "      <td>Air France</td>\n",
       "      <td>447</td>\n",
       "      <td>Rio de Janeiro - Paris</td>\n",
       "      <td>Airbus A330-203</td>\n",
       "      <td>F-GZCP</td>\n",
       "      <td>660</td>\n",
       "      <td>228.0</td>\n",
       "      <td>228.0</td>\n",
       "      <td>0.0</td>\n",
       "      <td>The Airbus went missing over the AtlantiOcean ...</td>\n",
       "    </tr>\n",
       "    <tr>\n",
       "      <th>5266</th>\n",
       "      <td>06/07/2009</td>\n",
       "      <td>08:30</td>\n",
       "      <td>Near Port Hope Simpson, Newfoundland, Canada</td>\n",
       "      <td>Strait Air</td>\n",
       "      <td>NaN</td>\n",
       "      <td>Lourdes de BlanSablon - Port Hope Simpson</td>\n",
       "      <td>Britten-Norman BN-2A-27 Islander</td>\n",
       "      <td>C-FJJR</td>\n",
       "      <td>424</td>\n",
       "      <td>1.0</td>\n",
       "      <td>1.0</td>\n",
       "      <td>0.0</td>\n",
       "      <td>The air ambulance crashed into hills while att...</td>\n",
       "    </tr>\n",
       "    <tr>\n",
       "      <th>5267</th>\n",
       "      <td>06/08/2009</td>\n",
       "      <td>NaN</td>\n",
       "      <td>State of Arunachal Pradesh, India</td>\n",
       "      <td>Military - Indian Air Force</td>\n",
       "      <td>NaN</td>\n",
       "      <td>Mechuka for Jorhat</td>\n",
       "      <td>Antonov An-32</td>\n",
       "      <td>NaN</td>\n",
       "      <td>NaN</td>\n",
       "      <td>13.0</td>\n",
       "      <td>13.0</td>\n",
       "      <td>0.0</td>\n",
       "      <td>The military transport went missing while en r...</td>\n",
       "    </tr>\n",
       "  </tbody>\n",
       "</table>\n",
       "<p>5268 rows × 13 columns</p>\n",
       "</div>"
      ],
      "text/plain": [
       "            Date   Time                                           Location  \\\n",
       "0     09/17/1908  17:18                                Fort Myer, Virginia   \n",
       "1     07/12/1912  06:30                            AtlantiCity, New Jersey   \n",
       "2     08/06/1913    NaN                 Victoria, British Columbia, Canada   \n",
       "3     09/09/1913  18:30                                 Over the North Sea   \n",
       "4     10/17/1913  10:30                         Near Johannisthal, Germany   \n",
       "...          ...    ...                                                ...   \n",
       "5263  05/20/2009  06:30                             Near Madiun, Indonesia   \n",
       "5264  05/26/2009    NaN                  Near Isiro, DemocratiRepubliCongo   \n",
       "5265  06/01/2009  00:15  AtlantiOcean, 570 miles northeast of Natal, Br...   \n",
       "5266  06/07/2009  08:30       Near Port Hope Simpson, Newfoundland, Canada   \n",
       "5267  06/08/2009    NaN                  State of Arunachal Pradesh, India   \n",
       "\n",
       "                             Operator Flight #  \\\n",
       "0                Military - U.S. Army      NaN   \n",
       "1                Military - U.S. Navy      NaN   \n",
       "2                             Private        -   \n",
       "3              Military - German Navy      NaN   \n",
       "4              Military - German Navy      NaN   \n",
       "...                               ...      ...   \n",
       "5263  Military - Indonesian Air Force      NaN   \n",
       "5264                      Service Air      NaN   \n",
       "5265                       Air France      447   \n",
       "5266                       Strait Air      NaN   \n",
       "5267      Military - Indian Air Force      NaN   \n",
       "\n",
       "                                          Route  \\\n",
       "0                                 Demonstration   \n",
       "1                                   Test flight   \n",
       "2                                           NaN   \n",
       "3                                           NaN   \n",
       "4                                           NaN   \n",
       "...                                         ...   \n",
       "5263                           Jakarta - Maduin   \n",
       "5264                               Goma - Isiro   \n",
       "5265                     Rio de Janeiro - Paris   \n",
       "5266  Lourdes de BlanSablon - Port Hope Simpson   \n",
       "5267                         Mechuka for Jorhat   \n",
       "\n",
       "                                  Type Registration cn/In  Aboard  Fatalities  \\\n",
       "0                     Wright Flyer III          NaN     1     2.0         1.0   \n",
       "1                            Dirigible          NaN   NaN     5.0         5.0   \n",
       "2                     Curtiss seaplane          NaN   NaN     1.0         1.0   \n",
       "3               Zeppelin L-1 (airship)          NaN   NaN    20.0        14.0   \n",
       "4               Zeppelin L-2 (airship)          NaN   NaN    30.0        30.0   \n",
       "...                                ...          ...   ...     ...         ...   \n",
       "5263           Lockheed C-130 Hercules       A-1325  1982   112.0        98.0   \n",
       "5264                     Antonov An-26       9Q-CSA  5005     4.0         4.0   \n",
       "5265                   Airbus A330-203       F-GZCP   660   228.0       228.0   \n",
       "5266  Britten-Norman BN-2A-27 Islander      C-FJJR    424     1.0         1.0   \n",
       "5267                     Antonov An-32          NaN   NaN    13.0        13.0   \n",
       "\n",
       "      Ground                                            Summary  \n",
       "0        0.0  During a demonstration flight, a U.S. Army fly...  \n",
       "1        0.0  First U.S. dirigible Akron exploded just offsh...  \n",
       "2        0.0  The first fatal airplane accident in Canada oc...  \n",
       "3        0.0  The airship flew into a thunderstorm and encou...  \n",
       "4        0.0  Hydrogen gas which was being vented was sucked...  \n",
       "...      ...                                                ...  \n",
       "5263     2.0  While on approach, the military transport cras...  \n",
       "5264     NaN  The cargo plane crashed while on approach to I...  \n",
       "5265     0.0  The Airbus went missing over the AtlantiOcean ...  \n",
       "5266     0.0  The air ambulance crashed into hills while att...  \n",
       "5267     0.0  The military transport went missing while en r...  \n",
       "\n",
       "[5268 rows x 13 columns]"
      ]
     },
     "execution_count": 268,
     "metadata": {},
     "output_type": "execute_result"
    }
   ],
   "source": [
    "df\n"
   ]
  },
  {
   "cell_type": "code",
   "execution_count": 269,
   "metadata": {},
   "outputs": [
    {
     "name": "stdout",
     "output_type": "stream",
     "text": [
      "<class 'pandas.core.frame.DataFrame'>\n",
      "RangeIndex: 5268 entries, 0 to 5267\n",
      "Data columns (total 13 columns):\n",
      " #   Column        Non-Null Count  Dtype  \n",
      "---  ------        --------------  -----  \n",
      " 0   Date          5268 non-null   object \n",
      " 1   Time          3049 non-null   object \n",
      " 2   Location      5248 non-null   object \n",
      " 3   Operator      5250 non-null   object \n",
      " 4   Flight #      1069 non-null   object \n",
      " 5   Route         3562 non-null   object \n",
      " 6   Type          5241 non-null   object \n",
      " 7   Registration  4933 non-null   object \n",
      " 8   cn/In         4040 non-null   object \n",
      " 9   Aboard        5246 non-null   float64\n",
      " 10  Fatalities    5256 non-null   float64\n",
      " 11  Ground        5246 non-null   float64\n",
      " 12  Summary       4878 non-null   object \n",
      "dtypes: float64(3), object(10)\n",
      "memory usage: 535.2+ KB\n"
     ]
    }
   ],
   "source": [
    "df.info()"
   ]
  },
  {
   "cell_type": "code",
   "execution_count": 270,
   "metadata": {
    "scrolled": true
   },
   "outputs": [
    {
     "name": "stdout",
     "output_type": "stream",
     "text": [
      "Date               0\n",
      "Time            2219\n",
      "Location          20\n",
      "Operator          18\n",
      "Flight #        4199\n",
      "Route           1706\n",
      "Type              27\n",
      "Registration     335\n",
      "cn/In           1228\n",
      "Aboard            22\n",
      "Fatalities        12\n",
      "Ground            22\n",
      "Summary          390\n",
      "dtype: int64\n"
     ]
    }
   ],
   "source": [
    "print(df.isnull().sum())"
   ]
  },
  {
   "cell_type": "code",
   "execution_count": 271,
   "metadata": {},
   "outputs": [],
   "source": [
    "df.drop('Flight #',axis=1, inplace=True)"
   ]
  },
  {
   "cell_type": "code",
   "execution_count": 272,
   "metadata": {},
   "outputs": [],
   "source": [
    "df.drop('Time',axis=1, inplace=True)"
   ]
  },
  {
   "cell_type": "code",
   "execution_count": 273,
   "metadata": {},
   "outputs": [
    {
     "name": "stdout",
     "output_type": "stream",
     "text": [
      "Moscow, Russia               15\n",
      "Sao Paulo, Brazil            15\n",
      "Rio de Janeiro, Brazil       14\n",
      "Anchorage, Alaska            13\n",
      "Manila, Philippines          13\n",
      "                             ..\n",
      "Near Moscow                   1\n",
      "Off Parepare, Indonesia       1\n",
      "Hillersburg, Pennsylvania     1\n",
      "Gulfport, Mississippi         1\n",
      "Passo Fundo, Brazil           1\n",
      "Name: Location, Length: 4303, dtype: int64\n"
     ]
    }
   ],
   "source": [
    "print(df['Location'].value_counts())"
   ]
  },
  {
   "cell_type": "code",
   "execution_count": 274,
   "metadata": {},
   "outputs": [],
   "source": [
    "df['Location'].fillna('Sao Paulo, Brazil',inplace=True)\n"
   ]
  },
  {
   "cell_type": "code",
   "execution_count": 275,
   "metadata": {},
   "outputs": [
    {
     "name": "stdout",
     "output_type": "stream",
     "text": [
      "Aeroflot                                           179\n",
      "Military - U.S. Air Force                          176\n",
      "Air France                                          70\n",
      "Deutsche Lufthansa                                  65\n",
      "United Air Lines                                    44\n",
      "                                                  ... \n",
      "Air Bissau                                           1\n",
      "Compagnie Internationale de Navigation Aérienne      1\n",
      "Scandinavian Airlines (SAS) / Private                1\n",
      "Papillon Grand Canyon Helicopters of Las Vegas       1\n",
      "Aerolineas La Gaviola                                1\n",
      "Name: Operator, Length: 2476, dtype: int64\n"
     ]
    }
   ],
   "source": [
    "print(df['Operator'].value_counts())"
   ]
  },
  {
   "cell_type": "code",
   "execution_count": 276,
   "metadata": {},
   "outputs": [],
   "source": [
    "df['Operator'].fillna('Aeroflot',inplace=True)\n"
   ]
  },
  {
   "cell_type": "code",
   "execution_count": 277,
   "metadata": {},
   "outputs": [
    {
     "name": "stdout",
     "output_type": "stream",
     "text": [
      "Training                         81\n",
      "Sightseeing                      29\n",
      "Test flight                      17\n",
      "Test                              6\n",
      "Sao Paulo - Rio de Janeiro        5\n",
      "                                 ..\n",
      "Taura - Latacunga                 1\n",
      "Anaktuvak, AK - Deadhorse, AK     1\n",
      "Paris - Lyons - Tunis             1\n",
      "Krasnoyarsk - Norilsk             1\n",
      "Fort Lamy - Beirut                1\n",
      "Name: Route, Length: 3244, dtype: int64\n"
     ]
    }
   ],
   "source": [
    "print(df['Route'].value_counts())"
   ]
  },
  {
   "cell_type": "code",
   "execution_count": 278,
   "metadata": {},
   "outputs": [],
   "source": [
    "df['Route'].fillna('Training',inplace=True)\n"
   ]
  },
  {
   "cell_type": "code",
   "execution_count": 279,
   "metadata": {},
   "outputs": [
    {
     "name": "stdout",
     "output_type": "stream",
     "text": [
      "Douglas DC-3                                334\n",
      "de Havilland Canada DHC-6 Twin Otter 300     81\n",
      "Douglas C-47A                                74\n",
      "Douglas C-47                                 62\n",
      "Douglas DC-4                                 40\n",
      "                                           ... \n",
      "HAL-748-224 Srs.2                             1\n",
      "Cessna T210N                                  1\n",
      "Boeing B-747-131F                             1\n",
      "Cessna  208B Grand Caravan                    1\n",
      "Cessna 310B                                   1\n",
      "Name: Type, Length: 2446, dtype: int64\n"
     ]
    }
   ],
   "source": [
    "print(df['Type'].value_counts())"
   ]
  },
  {
   "cell_type": "code",
   "execution_count": 280,
   "metadata": {},
   "outputs": [],
   "source": [
    "df['Type'].fillna('Douglas DC-3',inplace=True)\n"
   ]
  },
  {
   "cell_type": "code",
   "execution_count": 281,
   "metadata": {},
   "outputs": [
    {
     "name": "stdout",
     "output_type": "stream",
     "text": [
      "49         3\n",
      "012        2\n",
      "N67941     2\n",
      "82         2\n",
      "FAE-068    2\n",
      "          ..\n",
      "G-AHPN     1\n",
      "N68963     1\n",
      "F-BTQE     1\n",
      "G-AOJA     1\n",
      "F-AHBH     1\n",
      "Name: Registration, Length: 4905, dtype: int64\n"
     ]
    }
   ],
   "source": [
    "print(df['Registration'].value_counts())"
   ]
  },
  {
   "cell_type": "code",
   "execution_count": 282,
   "metadata": {},
   "outputs": [],
   "source": [
    "df['Registration'].fillna('49',inplace=True)\n"
   ]
  },
  {
   "cell_type": "code",
   "execution_count": 283,
   "metadata": {},
   "outputs": [
    {
     "name": "stdout",
     "output_type": "stream",
     "text": [
      "178         6\n",
      "229         5\n",
      "125         5\n",
      "19          5\n",
      "213         5\n",
      "           ..\n",
      "AW-785      1\n",
      "43102       1\n",
      "4051        1\n",
      "20700204    1\n",
      "654         1\n",
      "Name: cn/In, Length: 3707, dtype: int64\n"
     ]
    }
   ],
   "source": [
    "print(df['cn/In'].value_counts())"
   ]
  },
  {
   "cell_type": "code",
   "execution_count": 284,
   "metadata": {},
   "outputs": [],
   "source": [
    "df['cn/In'].fillna('178',inplace=True)\n"
   ]
  },
  {
   "cell_type": "code",
   "execution_count": 285,
   "metadata": {},
   "outputs": [
    {
     "name": "stdout",
     "output_type": "stream",
     "text": [
      "Crashed during takeoff.                                                                                                                                15\n",
      "Crashed into the sea.                                                                                                                                  12\n",
      "Crashed while en route.                                                                                                                                12\n",
      "Crashed into a mountain.                                                                                                                               12\n",
      "Struck a mountain.                                                                                                                                     11\n",
      "                                                                                                                                                       ..\n",
      "Icing.                                                                                                                                                  1\n",
      "A midair collision occurred between a SAS DC-6 and a Royal Air Force Avro York MW248. Thirty-two killed on the DC-6, seven on the York.  ATC error.     1\n",
      "Crashed into Cerro Sincholagua mountain at 16,000 ft.  during an approach to Quito. Pilot fatigue may have been a factor.                               1\n",
      "Crashed shortly after taking off from Bogata.                                                                                                           1\n",
      "Crashed after an explosion in the cargo hold.                                                                                                           1\n",
      "Name: Summary, Length: 4673, dtype: int64\n"
     ]
    }
   ],
   "source": [
    "print(df['Summary'].value_counts())"
   ]
  },
  {
   "cell_type": "code",
   "execution_count": 286,
   "metadata": {},
   "outputs": [],
   "source": [
    "df['Summary'].fillna('Crashed during takeoff.',inplace=True)\n"
   ]
  },
  {
   "cell_type": "code",
   "execution_count": 287,
   "metadata": {},
   "outputs": [],
   "source": [
    "df['Aboard'].fillna(df['Aboard'].median(),inplace=True)"
   ]
  },
  {
   "cell_type": "code",
   "execution_count": 288,
   "metadata": {},
   "outputs": [],
   "source": [
    "df['Fatalities'].fillna(df['Fatalities'].median(),inplace=True)"
   ]
  },
  {
   "cell_type": "code",
   "execution_count": 289,
   "metadata": {},
   "outputs": [],
   "source": [
    "df['Ground'].fillna(df['Ground'].median(),inplace=True)"
   ]
  },
  {
   "cell_type": "code",
   "execution_count": 290,
   "metadata": {},
   "outputs": [
    {
     "name": "stdout",
     "output_type": "stream",
     "text": [
      "Date            0\n",
      "Location        0\n",
      "Operator        0\n",
      "Route           0\n",
      "Type            0\n",
      "Registration    0\n",
      "cn/In           0\n",
      "Aboard          0\n",
      "Fatalities      0\n",
      "Ground          0\n",
      "Summary         0\n",
      "dtype: int64\n"
     ]
    }
   ],
   "source": [
    "print(df.isnull().sum())"
   ]
  },
  {
   "cell_type": "code",
   "execution_count": 291,
   "metadata": {},
   "outputs": [
    {
     "data": {
      "text/html": [
       "<div>\n",
       "<style scoped>\n",
       "    .dataframe tbody tr th:only-of-type {\n",
       "        vertical-align: middle;\n",
       "    }\n",
       "\n",
       "    .dataframe tbody tr th {\n",
       "        vertical-align: top;\n",
       "    }\n",
       "\n",
       "    .dataframe thead th {\n",
       "        text-align: right;\n",
       "    }\n",
       "</style>\n",
       "<table border=\"1\" class=\"dataframe\">\n",
       "  <thead>\n",
       "    <tr style=\"text-align: right;\">\n",
       "      <th></th>\n",
       "      <th>Date</th>\n",
       "      <th>Location</th>\n",
       "      <th>Operator</th>\n",
       "      <th>Route</th>\n",
       "      <th>Type</th>\n",
       "      <th>Registration</th>\n",
       "      <th>cn/In</th>\n",
       "      <th>Aboard</th>\n",
       "      <th>Fatalities</th>\n",
       "      <th>Ground</th>\n",
       "      <th>Summary</th>\n",
       "    </tr>\n",
       "  </thead>\n",
       "  <tbody>\n",
       "    <tr>\n",
       "      <th>0</th>\n",
       "      <td>09/17/1908</td>\n",
       "      <td>Fort Myer, Virginia</td>\n",
       "      <td>Military - U.S. Army</td>\n",
       "      <td>Demonstration</td>\n",
       "      <td>Wright Flyer III</td>\n",
       "      <td>49</td>\n",
       "      <td>1</td>\n",
       "      <td>2.0</td>\n",
       "      <td>1.0</td>\n",
       "      <td>0.0</td>\n",
       "      <td>During a demonstration flight, a U.S. Army fly...</td>\n",
       "    </tr>\n",
       "    <tr>\n",
       "      <th>1</th>\n",
       "      <td>07/12/1912</td>\n",
       "      <td>AtlantiCity, New Jersey</td>\n",
       "      <td>Military - U.S. Navy</td>\n",
       "      <td>Test flight</td>\n",
       "      <td>Dirigible</td>\n",
       "      <td>49</td>\n",
       "      <td>178</td>\n",
       "      <td>5.0</td>\n",
       "      <td>5.0</td>\n",
       "      <td>0.0</td>\n",
       "      <td>First U.S. dirigible Akron exploded just offsh...</td>\n",
       "    </tr>\n",
       "    <tr>\n",
       "      <th>2</th>\n",
       "      <td>08/06/1913</td>\n",
       "      <td>Victoria, British Columbia, Canada</td>\n",
       "      <td>Private</td>\n",
       "      <td>Training</td>\n",
       "      <td>Curtiss seaplane</td>\n",
       "      <td>49</td>\n",
       "      <td>178</td>\n",
       "      <td>1.0</td>\n",
       "      <td>1.0</td>\n",
       "      <td>0.0</td>\n",
       "      <td>The first fatal airplane accident in Canada oc...</td>\n",
       "    </tr>\n",
       "    <tr>\n",
       "      <th>3</th>\n",
       "      <td>09/09/1913</td>\n",
       "      <td>Over the North Sea</td>\n",
       "      <td>Military - German Navy</td>\n",
       "      <td>Training</td>\n",
       "      <td>Zeppelin L-1 (airship)</td>\n",
       "      <td>49</td>\n",
       "      <td>178</td>\n",
       "      <td>20.0</td>\n",
       "      <td>14.0</td>\n",
       "      <td>0.0</td>\n",
       "      <td>The airship flew into a thunderstorm and encou...</td>\n",
       "    </tr>\n",
       "    <tr>\n",
       "      <th>4</th>\n",
       "      <td>10/17/1913</td>\n",
       "      <td>Near Johannisthal, Germany</td>\n",
       "      <td>Military - German Navy</td>\n",
       "      <td>Training</td>\n",
       "      <td>Zeppelin L-2 (airship)</td>\n",
       "      <td>49</td>\n",
       "      <td>178</td>\n",
       "      <td>30.0</td>\n",
       "      <td>30.0</td>\n",
       "      <td>0.0</td>\n",
       "      <td>Hydrogen gas which was being vented was sucked...</td>\n",
       "    </tr>\n",
       "    <tr>\n",
       "      <th>...</th>\n",
       "      <td>...</td>\n",
       "      <td>...</td>\n",
       "      <td>...</td>\n",
       "      <td>...</td>\n",
       "      <td>...</td>\n",
       "      <td>...</td>\n",
       "      <td>...</td>\n",
       "      <td>...</td>\n",
       "      <td>...</td>\n",
       "      <td>...</td>\n",
       "      <td>...</td>\n",
       "    </tr>\n",
       "    <tr>\n",
       "      <th>5263</th>\n",
       "      <td>05/20/2009</td>\n",
       "      <td>Near Madiun, Indonesia</td>\n",
       "      <td>Military - Indonesian Air Force</td>\n",
       "      <td>Jakarta - Maduin</td>\n",
       "      <td>Lockheed C-130 Hercules</td>\n",
       "      <td>A-1325</td>\n",
       "      <td>1982</td>\n",
       "      <td>112.0</td>\n",
       "      <td>98.0</td>\n",
       "      <td>2.0</td>\n",
       "      <td>While on approach, the military transport cras...</td>\n",
       "    </tr>\n",
       "    <tr>\n",
       "      <th>5264</th>\n",
       "      <td>05/26/2009</td>\n",
       "      <td>Near Isiro, DemocratiRepubliCongo</td>\n",
       "      <td>Service Air</td>\n",
       "      <td>Goma - Isiro</td>\n",
       "      <td>Antonov An-26</td>\n",
       "      <td>9Q-CSA</td>\n",
       "      <td>5005</td>\n",
       "      <td>4.0</td>\n",
       "      <td>4.0</td>\n",
       "      <td>0.0</td>\n",
       "      <td>The cargo plane crashed while on approach to I...</td>\n",
       "    </tr>\n",
       "    <tr>\n",
       "      <th>5265</th>\n",
       "      <td>06/01/2009</td>\n",
       "      <td>AtlantiOcean, 570 miles northeast of Natal, Br...</td>\n",
       "      <td>Air France</td>\n",
       "      <td>Rio de Janeiro - Paris</td>\n",
       "      <td>Airbus A330-203</td>\n",
       "      <td>F-GZCP</td>\n",
       "      <td>660</td>\n",
       "      <td>228.0</td>\n",
       "      <td>228.0</td>\n",
       "      <td>0.0</td>\n",
       "      <td>The Airbus went missing over the AtlantiOcean ...</td>\n",
       "    </tr>\n",
       "    <tr>\n",
       "      <th>5266</th>\n",
       "      <td>06/07/2009</td>\n",
       "      <td>Near Port Hope Simpson, Newfoundland, Canada</td>\n",
       "      <td>Strait Air</td>\n",
       "      <td>Lourdes de BlanSablon - Port Hope Simpson</td>\n",
       "      <td>Britten-Norman BN-2A-27 Islander</td>\n",
       "      <td>C-FJJR</td>\n",
       "      <td>424</td>\n",
       "      <td>1.0</td>\n",
       "      <td>1.0</td>\n",
       "      <td>0.0</td>\n",
       "      <td>The air ambulance crashed into hills while att...</td>\n",
       "    </tr>\n",
       "    <tr>\n",
       "      <th>5267</th>\n",
       "      <td>06/08/2009</td>\n",
       "      <td>State of Arunachal Pradesh, India</td>\n",
       "      <td>Military - Indian Air Force</td>\n",
       "      <td>Mechuka for Jorhat</td>\n",
       "      <td>Antonov An-32</td>\n",
       "      <td>49</td>\n",
       "      <td>178</td>\n",
       "      <td>13.0</td>\n",
       "      <td>13.0</td>\n",
       "      <td>0.0</td>\n",
       "      <td>The military transport went missing while en r...</td>\n",
       "    </tr>\n",
       "  </tbody>\n",
       "</table>\n",
       "<p>5268 rows × 11 columns</p>\n",
       "</div>"
      ],
      "text/plain": [
       "            Date                                           Location  \\\n",
       "0     09/17/1908                                Fort Myer, Virginia   \n",
       "1     07/12/1912                            AtlantiCity, New Jersey   \n",
       "2     08/06/1913                 Victoria, British Columbia, Canada   \n",
       "3     09/09/1913                                 Over the North Sea   \n",
       "4     10/17/1913                         Near Johannisthal, Germany   \n",
       "...          ...                                                ...   \n",
       "5263  05/20/2009                             Near Madiun, Indonesia   \n",
       "5264  05/26/2009                  Near Isiro, DemocratiRepubliCongo   \n",
       "5265  06/01/2009  AtlantiOcean, 570 miles northeast of Natal, Br...   \n",
       "5266  06/07/2009       Near Port Hope Simpson, Newfoundland, Canada   \n",
       "5267  06/08/2009                  State of Arunachal Pradesh, India   \n",
       "\n",
       "                             Operator  \\\n",
       "0                Military - U.S. Army   \n",
       "1                Military - U.S. Navy   \n",
       "2                             Private   \n",
       "3              Military - German Navy   \n",
       "4              Military - German Navy   \n",
       "...                               ...   \n",
       "5263  Military - Indonesian Air Force   \n",
       "5264                      Service Air   \n",
       "5265                       Air France   \n",
       "5266                       Strait Air   \n",
       "5267      Military - Indian Air Force   \n",
       "\n",
       "                                          Route  \\\n",
       "0                                 Demonstration   \n",
       "1                                   Test flight   \n",
       "2                                      Training   \n",
       "3                                      Training   \n",
       "4                                      Training   \n",
       "...                                         ...   \n",
       "5263                           Jakarta - Maduin   \n",
       "5264                               Goma - Isiro   \n",
       "5265                     Rio de Janeiro - Paris   \n",
       "5266  Lourdes de BlanSablon - Port Hope Simpson   \n",
       "5267                         Mechuka for Jorhat   \n",
       "\n",
       "                                  Type Registration cn/In  Aboard  Fatalities  \\\n",
       "0                     Wright Flyer III           49     1     2.0         1.0   \n",
       "1                            Dirigible           49   178     5.0         5.0   \n",
       "2                     Curtiss seaplane           49   178     1.0         1.0   \n",
       "3               Zeppelin L-1 (airship)           49   178    20.0        14.0   \n",
       "4               Zeppelin L-2 (airship)           49   178    30.0        30.0   \n",
       "...                                ...          ...   ...     ...         ...   \n",
       "5263           Lockheed C-130 Hercules       A-1325  1982   112.0        98.0   \n",
       "5264                     Antonov An-26       9Q-CSA  5005     4.0         4.0   \n",
       "5265                   Airbus A330-203       F-GZCP   660   228.0       228.0   \n",
       "5266  Britten-Norman BN-2A-27 Islander      C-FJJR    424     1.0         1.0   \n",
       "5267                     Antonov An-32           49   178    13.0        13.0   \n",
       "\n",
       "      Ground                                            Summary  \n",
       "0        0.0  During a demonstration flight, a U.S. Army fly...  \n",
       "1        0.0  First U.S. dirigible Akron exploded just offsh...  \n",
       "2        0.0  The first fatal airplane accident in Canada oc...  \n",
       "3        0.0  The airship flew into a thunderstorm and encou...  \n",
       "4        0.0  Hydrogen gas which was being vented was sucked...  \n",
       "...      ...                                                ...  \n",
       "5263     2.0  While on approach, the military transport cras...  \n",
       "5264     0.0  The cargo plane crashed while on approach to I...  \n",
       "5265     0.0  The Airbus went missing over the AtlantiOcean ...  \n",
       "5266     0.0  The air ambulance crashed into hills while att...  \n",
       "5267     0.0  The military transport went missing while en r...  \n",
       "\n",
       "[5268 rows x 11 columns]"
      ]
     },
     "execution_count": 291,
     "metadata": {},
     "output_type": "execute_result"
    }
   ],
   "source": [
    "df"
   ]
  },
  {
   "cell_type": "markdown",
   "metadata": {},
   "source": [
    "# Visualization part"
   ]
  },
  {
   "cell_type": "code",
   "execution_count": 292,
   "metadata": {},
   "outputs": [
    {
     "name": "stdout",
     "output_type": "stream",
     "text": [
      "Date            0\n",
      "Location        0\n",
      "Operator        0\n",
      "Route           0\n",
      "Type            0\n",
      "Registration    0\n",
      "cn/In           0\n",
      "Aboard          0\n",
      "Fatalities      0\n",
      "Ground          0\n",
      "Summary         0\n",
      "dtype: int64\n"
     ]
    }
   ],
   "source": [
    "print(df.isnull().sum())"
   ]
  },
  {
   "cell_type": "code",
   "execution_count": 293,
   "metadata": {},
   "outputs": [
    {
     "data": {
      "image/png": "[encoded data removed]",
      "text/plain": [
       "<Figure size 432x288 with 1 Axes>"
      ]
     },
     "metadata": {
      "needs_background": "light"
     },
     "output_type": "display_data"
    }
   ],
   "source": [
    "import matplotlib.pyplot as plt\n",
    "plt.plot(df['Aboard'],df['Fatalities'],'ro')\n",
    "plt.show()"
   ]
  },
  {
   "cell_type": "code",
   "execution_count": 294,
   "metadata": {},
   "outputs": [
    {
     "data": {
      "image/png": "[encoded data removed]",
      "text/plain": [
       "<Figure size 432x288 with 1 Axes>"
      ]
     },
     "metadata": {
      "needs_background": "light"
     },
     "output_type": "display_data"
    }
   ],
   "source": [
    "import matplotlib.pyplot as plt\n",
    "plt.plot(df['Aboard'],df['Ground'],'ro')\n",
    "plt.show()"
   ]
  },
  {
   "cell_type": "code",
   "execution_count": 295,
   "metadata": {},
   "outputs": [
    {
     "data": {
      "image/png": "[encoded data removed]",
      "text/plain": [
       "<Figure size 432x288 with 1 Axes>"
      ]
     },
     "metadata": {
      "needs_background": "light"
     },
     "output_type": "display_data"
    }
   ],
   "source": [
    "import matplotlib.pyplot as plt\n",
    "plt.plot(df['Fatalities'],df['Ground'],'ro')\n",
    "plt.show()"
   ]
  },
  {
   "cell_type": "code",
   "execution_count": 296,
   "metadata": {},
   "outputs": [],
   "source": [
    "# High Fatalities : Fatalities> 2/3 Aboard\n",
    "# Medium Fatalities : 1/3 Aboard < Fatalities < 2/3 Aboard\n",
    "# Low Fatalities : Fatalities< 1/3 Aboard\n"
   ]
  },
  {
   "cell_type": "code",
   "execution_count": 297,
   "metadata": {},
   "outputs": [
    {
     "data": {
      "text/plain": [
       "0         1.0\n",
       "1         5.0\n",
       "2         1.0\n",
       "3        14.0\n",
       "4        30.0\n",
       "        ...  \n",
       "5263     98.0\n",
       "5264      4.0\n",
       "5265    228.0\n",
       "5266      1.0\n",
       "5267     13.0\n",
       "Name: Fatalities, Length: 5268, dtype: float64"
      ]
     },
     "execution_count": 297,
     "metadata": {},
     "output_type": "execute_result"
    }
   ],
   "source": [
    "Fatalities_Description=df.Fatalities\n",
    "Fatalities_Description\n"
   ]
  },
  {
   "cell_type": "code",
   "execution_count": 298,
   "metadata": {},
   "outputs": [
    {
     "name": "stderr",
     "output_type": "stream",
     "text": [
      "<ipython-input-298-0a67f995a27c>:8: SettingWithCopyWarning: \n",
      "A value is trying to be set on a copy of a slice from a DataFrame\n",
      "\n",
      "See the caveats in the documentation: https://pandas.pydata.org/pandas-docs/stable/user_guide/indexing.html#returning-a-view-versus-a-copy\n",
      "  Fatalities_Description[i]='Medium Fatalities'\n",
      "C:\\Users\\SNB\\anaconda3\\lib\\site-packages\\pandas\\core\\indexing.py:671: SettingWithCopyWarning: \n",
      "A value is trying to be set on a copy of a slice from a DataFrame\n",
      "\n",
      "See the caveats in the documentation: https://pandas.pydata.org/pandas-docs/stable/user_guide/indexing.html#returning-a-view-versus-a-copy\n",
      "  self._setitem_with_indexer(indexer, value)\n",
      "<ipython-input-298-0a67f995a27c>:4: SettingWithCopyWarning: \n",
      "A value is trying to be set on a copy of a slice from a DataFrame\n",
      "\n",
      "See the caveats in the documentation: https://pandas.pydata.org/pandas-docs/stable/user_guide/indexing.html#returning-a-view-versus-a-copy\n",
      "  Fatalities_Description[i]='High Fatalities'\n",
      "<ipython-input-298-0a67f995a27c>:6: SettingWithCopyWarning: \n",
      "A value is trying to be set on a copy of a slice from a DataFrame\n",
      "\n",
      "See the caveats in the documentation: https://pandas.pydata.org/pandas-docs/stable/user_guide/indexing.html#returning-a-view-versus-a-copy\n",
      "  Fatalities_Description[i]='Low Fatalities'\n"
     ]
    },
    {
     "name": "stdout",
     "output_type": "stream",
     "text": [
      "0       Medium Fatalities\n",
      "1         High Fatalities\n",
      "2         High Fatalities\n",
      "3         High Fatalities\n",
      "4         High Fatalities\n",
      "              ...        \n",
      "5263      High Fatalities\n",
      "5264      High Fatalities\n",
      "5265      High Fatalities\n",
      "5266      High Fatalities\n",
      "5267      High Fatalities\n",
      "Name: Fatalities, Length: 5268, dtype: object\n"
     ]
    }
   ],
   "source": [
    "d=len(Fatalities_Description)\n",
    "for i in range(0,d):\n",
    "    if Fatalities_Description[i]> (2/3*df['Aboard'][i]):\n",
    "        Fatalities_Description[i]='High Fatalities'\n",
    "    elif Fatalities_Description[i]<(1/3*df['Aboard'][i]):\n",
    "        Fatalities_Description[i]='Low Fatalities'\n",
    "    else:\n",
    "        Fatalities_Description[i]='Medium Fatalities'\n",
    "print(Fatalities_Description)\n",
    "   "
   ]
  },
  {
   "cell_type": "code",
   "execution_count": 299,
   "metadata": {},
   "outputs": [
    {
     "data": {
      "text/html": [
       "<div>\n",
       "<style scoped>\n",
       "    .dataframe tbody tr th:only-of-type {\n",
       "        vertical-align: middle;\n",
       "    }\n",
       "\n",
       "    .dataframe tbody tr th {\n",
       "        vertical-align: top;\n",
       "    }\n",
       "\n",
       "    .dataframe thead th {\n",
       "        text-align: right;\n",
       "    }\n",
       "</style>\n",
       "<table border=\"1\" class=\"dataframe\">\n",
       "  <thead>\n",
       "    <tr style=\"text-align: right;\">\n",
       "      <th></th>\n",
       "      <th>Date</th>\n",
       "      <th>Location</th>\n",
       "      <th>Operator</th>\n",
       "      <th>Route</th>\n",
       "      <th>Type</th>\n",
       "      <th>Registration</th>\n",
       "      <th>cn/In</th>\n",
       "      <th>Aboard</th>\n",
       "      <th>Fatalities</th>\n",
       "      <th>Ground</th>\n",
       "      <th>Summary</th>\n",
       "      <th>Fatalities_Description</th>\n",
       "    </tr>\n",
       "  </thead>\n",
       "  <tbody>\n",
       "    <tr>\n",
       "      <th>0</th>\n",
       "      <td>09/17/1908</td>\n",
       "      <td>Fort Myer, Virginia</td>\n",
       "      <td>Military - U.S. Army</td>\n",
       "      <td>Demonstration</td>\n",
       "      <td>Wright Flyer III</td>\n",
       "      <td>49</td>\n",
       "      <td>1</td>\n",
       "      <td>2.0</td>\n",
       "      <td>Medium Fatalities</td>\n",
       "      <td>0.0</td>\n",
       "      <td>During a demonstration flight, a U.S. Army fly...</td>\n",
       "      <td>Medium Fatalities</td>\n",
       "    </tr>\n",
       "    <tr>\n",
       "      <th>1</th>\n",
       "      <td>07/12/1912</td>\n",
       "      <td>AtlantiCity, New Jersey</td>\n",
       "      <td>Military - U.S. Navy</td>\n",
       "      <td>Test flight</td>\n",
       "      <td>Dirigible</td>\n",
       "      <td>49</td>\n",
       "      <td>178</td>\n",
       "      <td>5.0</td>\n",
       "      <td>High Fatalities</td>\n",
       "      <td>0.0</td>\n",
       "      <td>First U.S. dirigible Akron exploded just offsh...</td>\n",
       "      <td>High Fatalities</td>\n",
       "    </tr>\n",
       "    <tr>\n",
       "      <th>2</th>\n",
       "      <td>08/06/1913</td>\n",
       "      <td>Victoria, British Columbia, Canada</td>\n",
       "      <td>Private</td>\n",
       "      <td>Training</td>\n",
       "      <td>Curtiss seaplane</td>\n",
       "      <td>49</td>\n",
       "      <td>178</td>\n",
       "      <td>1.0</td>\n",
       "      <td>High Fatalities</td>\n",
       "      <td>0.0</td>\n",
       "      <td>The first fatal airplane accident in Canada oc...</td>\n",
       "      <td>High Fatalities</td>\n",
       "    </tr>\n",
       "    <tr>\n",
       "      <th>3</th>\n",
       "      <td>09/09/1913</td>\n",
       "      <td>Over the North Sea</td>\n",
       "      <td>Military - German Navy</td>\n",
       "      <td>Training</td>\n",
       "      <td>Zeppelin L-1 (airship)</td>\n",
       "      <td>49</td>\n",
       "      <td>178</td>\n",
       "      <td>20.0</td>\n",
       "      <td>High Fatalities</td>\n",
       "      <td>0.0</td>\n",
       "      <td>The airship flew into a thunderstorm and encou...</td>\n",
       "      <td>High Fatalities</td>\n",
       "    </tr>\n",
       "    <tr>\n",
       "      <th>4</th>\n",
       "      <td>10/17/1913</td>\n",
       "      <td>Near Johannisthal, Germany</td>\n",
       "      <td>Military - German Navy</td>\n",
       "      <td>Training</td>\n",
       "      <td>Zeppelin L-2 (airship)</td>\n",
       "      <td>49</td>\n",
       "      <td>178</td>\n",
       "      <td>30.0</td>\n",
       "      <td>High Fatalities</td>\n",
       "      <td>0.0</td>\n",
       "      <td>Hydrogen gas which was being vented was sucked...</td>\n",
       "      <td>High Fatalities</td>\n",
       "    </tr>\n",
       "    <tr>\n",
       "      <th>...</th>\n",
       "      <td>...</td>\n",
       "      <td>...</td>\n",
       "      <td>...</td>\n",
       "      <td>...</td>\n",
       "      <td>...</td>\n",
       "      <td>...</td>\n",
       "      <td>...</td>\n",
       "      <td>...</td>\n",
       "      <td>...</td>\n",
       "      <td>...</td>\n",
       "      <td>...</td>\n",
       "      <td>...</td>\n",
       "    </tr>\n",
       "    <tr>\n",
       "      <th>5263</th>\n",
       "      <td>05/20/2009</td>\n",
       "      <td>Near Madiun, Indonesia</td>\n",
       "      <td>Military - Indonesian Air Force</td>\n",
       "      <td>Jakarta - Maduin</td>\n",
       "      <td>Lockheed C-130 Hercules</td>\n",
       "      <td>A-1325</td>\n",
       "      <td>1982</td>\n",
       "      <td>112.0</td>\n",
       "      <td>High Fatalities</td>\n",
       "      <td>2.0</td>\n",
       "      <td>While on approach, the military transport cras...</td>\n",
       "      <td>High Fatalities</td>\n",
       "    </tr>\n",
       "    <tr>\n",
       "      <th>5264</th>\n",
       "      <td>05/26/2009</td>\n",
       "      <td>Near Isiro, DemocratiRepubliCongo</td>\n",
       "      <td>Service Air</td>\n",
       "      <td>Goma - Isiro</td>\n",
       "      <td>Antonov An-26</td>\n",
       "      <td>9Q-CSA</td>\n",
       "      <td>5005</td>\n",
       "      <td>4.0</td>\n",
       "      <td>High Fatalities</td>\n",
       "      <td>0.0</td>\n",
       "      <td>The cargo plane crashed while on approach to I...</td>\n",
       "      <td>High Fatalities</td>\n",
       "    </tr>\n",
       "    <tr>\n",
       "      <th>5265</th>\n",
       "      <td>06/01/2009</td>\n",
       "      <td>AtlantiOcean, 570 miles northeast of Natal, Br...</td>\n",
       "      <td>Air France</td>\n",
       "      <td>Rio de Janeiro - Paris</td>\n",
       "      <td>Airbus A330-203</td>\n",
       "      <td>F-GZCP</td>\n",
       "      <td>660</td>\n",
       "      <td>228.0</td>\n",
       "      <td>High Fatalities</td>\n",
       "      <td>0.0</td>\n",
       "      <td>The Airbus went missing over the AtlantiOcean ...</td>\n",
       "      <td>High Fatalities</td>\n",
       "    </tr>\n",
       "    <tr>\n",
       "      <th>5266</th>\n",
       "      <td>06/07/2009</td>\n",
       "      <td>Near Port Hope Simpson, Newfoundland, Canada</td>\n",
       "      <td>Strait Air</td>\n",
       "      <td>Lourdes de BlanSablon - Port Hope Simpson</td>\n",
       "      <td>Britten-Norman BN-2A-27 Islander</td>\n",
       "      <td>C-FJJR</td>\n",
       "      <td>424</td>\n",
       "      <td>1.0</td>\n",
       "      <td>High Fatalities</td>\n",
       "      <td>0.0</td>\n",
       "      <td>The air ambulance crashed into hills while att...</td>\n",
       "      <td>High Fatalities</td>\n",
       "    </tr>\n",
       "    <tr>\n",
       "      <th>5267</th>\n",
       "      <td>06/08/2009</td>\n",
       "      <td>State of Arunachal Pradesh, India</td>\n",
       "      <td>Military - Indian Air Force</td>\n",
       "      <td>Mechuka for Jorhat</td>\n",
       "      <td>Antonov An-32</td>\n",
       "      <td>49</td>\n",
       "      <td>178</td>\n",
       "      <td>13.0</td>\n",
       "      <td>High Fatalities</td>\n",
       "      <td>0.0</td>\n",
       "      <td>The military transport went missing while en r...</td>\n",
       "      <td>High Fatalities</td>\n",
       "    </tr>\n",
       "  </tbody>\n",
       "</table>\n",
       "<p>5268 rows × 12 columns</p>\n",
       "</div>"
      ],
      "text/plain": [
       "            Date                                           Location  \\\n",
       "0     09/17/1908                                Fort Myer, Virginia   \n",
       "1     07/12/1912                            AtlantiCity, New Jersey   \n",
       "2     08/06/1913                 Victoria, British Columbia, Canada   \n",
       "3     09/09/1913                                 Over the North Sea   \n",
       "4     10/17/1913                         Near Johannisthal, Germany   \n",
       "...          ...                                                ...   \n",
       "5263  05/20/2009                             Near Madiun, Indonesia   \n",
       "5264  05/26/2009                  Near Isiro, DemocratiRepubliCongo   \n",
       "5265  06/01/2009  AtlantiOcean, 570 miles northeast of Natal, Br...   \n",
       "5266  06/07/2009       Near Port Hope Simpson, Newfoundland, Canada   \n",
       "5267  06/08/2009                  State of Arunachal Pradesh, India   \n",
       "\n",
       "                             Operator  \\\n",
       "0                Military - U.S. Army   \n",
       "1                Military - U.S. Navy   \n",
       "2                             Private   \n",
       "3              Military - German Navy   \n",
       "4              Military - German Navy   \n",
       "...                               ...   \n",
       "5263  Military - Indonesian Air Force   \n",
       "5264                      Service Air   \n",
       "5265                       Air France   \n",
       "5266                       Strait Air   \n",
       "5267      Military - Indian Air Force   \n",
       "\n",
       "                                          Route  \\\n",
       "0                                 Demonstration   \n",
       "1                                   Test flight   \n",
       "2                                      Training   \n",
       "3                                      Training   \n",
       "4                                      Training   \n",
       "...                                         ...   \n",
       "5263                           Jakarta - Maduin   \n",
       "5264                               Goma - Isiro   \n",
       "5265                     Rio de Janeiro - Paris   \n",
       "5266  Lourdes de BlanSablon - Port Hope Simpson   \n",
       "5267                         Mechuka for Jorhat   \n",
       "\n",
       "                                  Type Registration cn/In  Aboard  \\\n",
       "0                     Wright Flyer III           49     1     2.0   \n",
       "1                            Dirigible           49   178     5.0   \n",
       "2                     Curtiss seaplane           49   178     1.0   \n",
       "3               Zeppelin L-1 (airship)           49   178    20.0   \n",
       "4               Zeppelin L-2 (airship)           49   178    30.0   \n",
       "...                                ...          ...   ...     ...   \n",
       "5263           Lockheed C-130 Hercules       A-1325  1982   112.0   \n",
       "5264                     Antonov An-26       9Q-CSA  5005     4.0   \n",
       "5265                   Airbus A330-203       F-GZCP   660   228.0   \n",
       "5266  Britten-Norman BN-2A-27 Islander      C-FJJR    424     1.0   \n",
       "5267                     Antonov An-32           49   178    13.0   \n",
       "\n",
       "             Fatalities  Ground  \\\n",
       "0     Medium Fatalities     0.0   \n",
       "1       High Fatalities     0.0   \n",
       "2       High Fatalities     0.0   \n",
       "3       High Fatalities     0.0   \n",
       "4       High Fatalities     0.0   \n",
       "...                 ...     ...   \n",
       "5263    High Fatalities     2.0   \n",
       "5264    High Fatalities     0.0   \n",
       "5265    High Fatalities     0.0   \n",
       "5266    High Fatalities     0.0   \n",
       "5267    High Fatalities     0.0   \n",
       "\n",
       "                                                Summary Fatalities_Description  \n",
       "0     During a demonstration flight, a U.S. Army fly...      Medium Fatalities  \n",
       "1     First U.S. dirigible Akron exploded just offsh...        High Fatalities  \n",
       "2     The first fatal airplane accident in Canada oc...        High Fatalities  \n",
       "3     The airship flew into a thunderstorm and encou...        High Fatalities  \n",
       "4     Hydrogen gas which was being vented was sucked...        High Fatalities  \n",
       "...                                                 ...                    ...  \n",
       "5263  While on approach, the military transport cras...        High Fatalities  \n",
       "5264  The cargo plane crashed while on approach to I...        High Fatalities  \n",
       "5265  The Airbus went missing over the AtlantiOcean ...        High Fatalities  \n",
       "5266  The air ambulance crashed into hills while att...        High Fatalities  \n",
       "5267  The military transport went missing while en r...        High Fatalities  \n",
       "\n",
       "[5268 rows x 12 columns]"
      ]
     },
     "execution_count": 299,
     "metadata": {},
     "output_type": "execute_result"
    }
   ],
   "source": [
    "df['Fatalities_Description']=Fatalities_Description\n",
    "df"
   ]
  },
  {
   "cell_type": "code",
   "execution_count": 300,
   "metadata": {},
   "outputs": [
    {
     "data": {
      "text/plain": [
       "<seaborn.axisgrid.FacetGrid at 0x1663b8bae50>"
      ]
     },
     "execution_count": 300,
     "metadata": {},
     "output_type": "execute_result"
    },
    {
     "data": {
      "image/png": "[encoded data removed]",
      "text/plain": [
       "<Figure size 648x216 with 3 Axes>"
      ]
     },
     "metadata": {
      "needs_background": "light"
     },
     "output_type": "display_data"
    }
   ],
   "source": [
    "import seaborn as sns\n",
    "import matplotlib.pyplot as plt\n",
    "g=sns.FacetGrid(df,col='Fatalities_Description')\n",
    "g.map(plt.hist,'Aboard',bins=20)"
   ]
  },
  {
   "cell_type": "code",
   "execution_count": 301,
   "metadata": {},
   "outputs": [],
   "source": [
    "# High Fatalities_Ground : Fatalities> 2/3 Aboard\n",
    "# Medium Fatalities_Ground : 1/3 Aboard < Fatalities < 2/3 Aboard\n",
    "# Low Fatalities_Ground : Fatalities< 1/3 Aboard"
   ]
  },
  {
   "cell_type": "code",
   "execution_count": 302,
   "metadata": {},
   "outputs": [
    {
     "data": {
      "text/plain": [
       "0       0.0\n",
       "1       0.0\n",
       "2       0.0\n",
       "3       0.0\n",
       "4       0.0\n",
       "       ... \n",
       "5263    2.0\n",
       "5264    0.0\n",
       "5265    0.0\n",
       "5266    0.0\n",
       "5267    0.0\n",
       "Name: Ground, Length: 5268, dtype: float64"
      ]
     },
     "execution_count": 302,
     "metadata": {},
     "output_type": "execute_result"
    }
   ],
   "source": [
    "Ground_Fatalities_Description=df.Ground\n",
    "Ground_Fatalities_Description"
   ]
  },
  {
   "cell_type": "code",
   "execution_count": 303,
   "metadata": {},
   "outputs": [
    {
     "name": "stderr",
     "output_type": "stream",
     "text": [
      "<ipython-input-303-ba9061871214>:6: SettingWithCopyWarning: \n",
      "A value is trying to be set on a copy of a slice from a DataFrame\n",
      "\n",
      "See the caveats in the documentation: https://pandas.pydata.org/pandas-docs/stable/user_guide/indexing.html#returning-a-view-versus-a-copy\n",
      "  Ground_Fatalities_Description[i]='Low Ground_Fatalities'\n",
      "C:\\Users\\SNB\\anaconda3\\lib\\site-packages\\pandas\\core\\indexing.py:671: SettingWithCopyWarning: \n",
      "A value is trying to be set on a copy of a slice from a DataFrame\n",
      "\n",
      "See the caveats in the documentation: https://pandas.pydata.org/pandas-docs/stable/user_guide/indexing.html#returning-a-view-versus-a-copy\n",
      "  self._setitem_with_indexer(indexer, value)\n",
      "<ipython-input-303-ba9061871214>:8: SettingWithCopyWarning: \n",
      "A value is trying to be set on a copy of a slice from a DataFrame\n",
      "\n",
      "See the caveats in the documentation: https://pandas.pydata.org/pandas-docs/stable/user_guide/indexing.html#returning-a-view-versus-a-copy\n",
      "  Ground_Fatalities_Description[i]='Medium Ground_Fatalities'\n",
      "<ipython-input-303-ba9061871214>:4: SettingWithCopyWarning: \n",
      "A value is trying to be set on a copy of a slice from a DataFrame\n",
      "\n",
      "See the caveats in the documentation: https://pandas.pydata.org/pandas-docs/stable/user_guide/indexing.html#returning-a-view-versus-a-copy\n",
      "  Ground_Fatalities_Description[i]='High Ground_Fatalities'\n"
     ]
    },
    {
     "name": "stdout",
     "output_type": "stream",
     "text": [
      "0       Low Ground_Fatalities\n",
      "1       Low Ground_Fatalities\n",
      "2       Low Ground_Fatalities\n",
      "3       Low Ground_Fatalities\n",
      "4       Low Ground_Fatalities\n",
      "                ...          \n",
      "5263    Low Ground_Fatalities\n",
      "5264    Low Ground_Fatalities\n",
      "5265    Low Ground_Fatalities\n",
      "5266    Low Ground_Fatalities\n",
      "5267    Low Ground_Fatalities\n",
      "Name: Ground, Length: 5268, dtype: object\n"
     ]
    }
   ],
   "source": [
    "x=len(Fatalities_Description)\n",
    "for i in range(0,x):\n",
    "    if Ground_Fatalities_Description[i]> 100:\n",
    "        Ground_Fatalities_Description[i]='High Ground_Fatalities'\n",
    "    elif Ground_Fatalities_Description[i]<10:\n",
    "        Ground_Fatalities_Description[i]='Low Ground_Fatalities'\n",
    "    else:\n",
    "        Ground_Fatalities_Description[i]='Medium Ground_Fatalities'\n",
    "print(Ground_Fatalities_Description)"
   ]
  },
  {
   "cell_type": "code",
   "execution_count": 304,
   "metadata": {},
   "outputs": [
    {
     "data": {
      "text/html": [
       "<div>\n",
       "<style scoped>\n",
       "    .dataframe tbody tr th:only-of-type {\n",
       "        vertical-align: middle;\n",
       "    }\n",
       "\n",
       "    .dataframe tbody tr th {\n",
       "        vertical-align: top;\n",
       "    }\n",
       "\n",
       "    .dataframe thead th {\n",
       "        text-align: right;\n",
       "    }\n",
       "</style>\n",
       "<table border=\"1\" class=\"dataframe\">\n",
       "  <thead>\n",
       "    <tr style=\"text-align: right;\">\n",
       "      <th></th>\n",
       "      <th>Date</th>\n",
       "      <th>Location</th>\n",
       "      <th>Operator</th>\n",
       "      <th>Route</th>\n",
       "      <th>Type</th>\n",
       "      <th>Registration</th>\n",
       "      <th>cn/In</th>\n",
       "      <th>Aboard</th>\n",
       "      <th>Fatalities</th>\n",
       "      <th>Ground</th>\n",
       "      <th>Summary</th>\n",
       "      <th>Fatalities_Description</th>\n",
       "      <th>Ground_Fatalities_Description</th>\n",
       "    </tr>\n",
       "  </thead>\n",
       "  <tbody>\n",
       "    <tr>\n",
       "      <th>0</th>\n",
       "      <td>09/17/1908</td>\n",
       "      <td>Fort Myer, Virginia</td>\n",
       "      <td>Military - U.S. Army</td>\n",
       "      <td>Demonstration</td>\n",
       "      <td>Wright Flyer III</td>\n",
       "      <td>49</td>\n",
       "      <td>1</td>\n",
       "      <td>2.0</td>\n",
       "      <td>Medium Fatalities</td>\n",
       "      <td>Low Ground_Fatalities</td>\n",
       "      <td>During a demonstration flight, a U.S. Army fly...</td>\n",
       "      <td>Medium Fatalities</td>\n",
       "      <td>Low Ground_Fatalities</td>\n",
       "    </tr>\n",
       "    <tr>\n",
       "      <th>1</th>\n",
       "      <td>07/12/1912</td>\n",
       "      <td>AtlantiCity, New Jersey</td>\n",
       "      <td>Military - U.S. Navy</td>\n",
       "      <td>Test flight</td>\n",
       "      <td>Dirigible</td>\n",
       "      <td>49</td>\n",
       "      <td>178</td>\n",
       "      <td>5.0</td>\n",
       "      <td>High Fatalities</td>\n",
       "      <td>Low Ground_Fatalities</td>\n",
       "      <td>First U.S. dirigible Akron exploded just offsh...</td>\n",
       "      <td>High Fatalities</td>\n",
       "      <td>Low Ground_Fatalities</td>\n",
       "    </tr>\n",
       "    <tr>\n",
       "      <th>2</th>\n",
       "      <td>08/06/1913</td>\n",
       "      <td>Victoria, British Columbia, Canada</td>\n",
       "      <td>Private</td>\n",
       "      <td>Training</td>\n",
       "      <td>Curtiss seaplane</td>\n",
       "      <td>49</td>\n",
       "      <td>178</td>\n",
       "      <td>1.0</td>\n",
       "      <td>High Fatalities</td>\n",
       "      <td>Low Ground_Fatalities</td>\n",
       "      <td>The first fatal airplane accident in Canada oc...</td>\n",
       "      <td>High Fatalities</td>\n",
       "      <td>Low Ground_Fatalities</td>\n",
       "    </tr>\n",
       "    <tr>\n",
       "      <th>3</th>\n",
       "      <td>09/09/1913</td>\n",
       "      <td>Over the North Sea</td>\n",
       "      <td>Military - German Navy</td>\n",
       "      <td>Training</td>\n",
       "      <td>Zeppelin L-1 (airship)</td>\n",
       "      <td>49</td>\n",
       "      <td>178</td>\n",
       "      <td>20.0</td>\n",
       "      <td>High Fatalities</td>\n",
       "      <td>Low Ground_Fatalities</td>\n",
       "      <td>The airship flew into a thunderstorm and encou...</td>\n",
       "      <td>High Fatalities</td>\n",
       "      <td>Low Ground_Fatalities</td>\n",
       "    </tr>\n",
       "    <tr>\n",
       "      <th>4</th>\n",
       "      <td>10/17/1913</td>\n",
       "      <td>Near Johannisthal, Germany</td>\n",
       "      <td>Military - German Navy</td>\n",
       "      <td>Training</td>\n",
       "      <td>Zeppelin L-2 (airship)</td>\n",
       "      <td>49</td>\n",
       "      <td>178</td>\n",
       "      <td>30.0</td>\n",
       "      <td>High Fatalities</td>\n",
       "      <td>Low Ground_Fatalities</td>\n",
       "      <td>Hydrogen gas which was being vented was sucked...</td>\n",
       "      <td>High Fatalities</td>\n",
       "      <td>Low Ground_Fatalities</td>\n",
       "    </tr>\n",
       "    <tr>\n",
       "      <th>...</th>\n",
       "      <td>...</td>\n",
       "      <td>...</td>\n",
       "      <td>...</td>\n",
       "      <td>...</td>\n",
       "      <td>...</td>\n",
       "      <td>...</td>\n",
       "      <td>...</td>\n",
       "      <td>...</td>\n",
       "      <td>...</td>\n",
       "      <td>...</td>\n",
       "      <td>...</td>\n",
       "      <td>...</td>\n",
       "      <td>...</td>\n",
       "    </tr>\n",
       "    <tr>\n",
       "      <th>5263</th>\n",
       "      <td>05/20/2009</td>\n",
       "      <td>Near Madiun, Indonesia</td>\n",
       "      <td>Military - Indonesian Air Force</td>\n",
       "      <td>Jakarta - Maduin</td>\n",
       "      <td>Lockheed C-130 Hercules</td>\n",
       "      <td>A-1325</td>\n",
       "      <td>1982</td>\n",
       "      <td>112.0</td>\n",
       "      <td>High Fatalities</td>\n",
       "      <td>Low Ground_Fatalities</td>\n",
       "      <td>While on approach, the military transport cras...</td>\n",
       "      <td>High Fatalities</td>\n",
       "      <td>Low Ground_Fatalities</td>\n",
       "    </tr>\n",
       "    <tr>\n",
       "      <th>5264</th>\n",
       "      <td>05/26/2009</td>\n",
       "      <td>Near Isiro, DemocratiRepubliCongo</td>\n",
       "      <td>Service Air</td>\n",
       "      <td>Goma - Isiro</td>\n",
       "      <td>Antonov An-26</td>\n",
       "      <td>9Q-CSA</td>\n",
       "      <td>5005</td>\n",
       "      <td>4.0</td>\n",
       "      <td>High Fatalities</td>\n",
       "      <td>Low Ground_Fatalities</td>\n",
       "      <td>The cargo plane crashed while on approach to I...</td>\n",
       "      <td>High Fatalities</td>\n",
       "      <td>Low Ground_Fatalities</td>\n",
       "    </tr>\n",
       "    <tr>\n",
       "      <th>5265</th>\n",
       "      <td>06/01/2009</td>\n",
       "      <td>AtlantiOcean, 570 miles northeast of Natal, Br...</td>\n",
       "      <td>Air France</td>\n",
       "      <td>Rio de Janeiro - Paris</td>\n",
       "      <td>Airbus A330-203</td>\n",
       "      <td>F-GZCP</td>\n",
       "      <td>660</td>\n",
       "      <td>228.0</td>\n",
       "      <td>High Fatalities</td>\n",
       "      <td>Low Ground_Fatalities</td>\n",
       "      <td>The Airbus went missing over the AtlantiOcean ...</td>\n",
       "      <td>High Fatalities</td>\n",
       "      <td>Low Ground_Fatalities</td>\n",
       "    </tr>\n",
       "    <tr>\n",
       "      <th>5266</th>\n",
       "      <td>06/07/2009</td>\n",
       "      <td>Near Port Hope Simpson, Newfoundland, Canada</td>\n",
       "      <td>Strait Air</td>\n",
       "      <td>Lourdes de BlanSablon - Port Hope Simpson</td>\n",
       "      <td>Britten-Norman BN-2A-27 Islander</td>\n",
       "      <td>C-FJJR</td>\n",
       "      <td>424</td>\n",
       "      <td>1.0</td>\n",
       "      <td>High Fatalities</td>\n",
       "      <td>Low Ground_Fatalities</td>\n",
       "      <td>The air ambulance crashed into hills while att...</td>\n",
       "      <td>High Fatalities</td>\n",
       "      <td>Low Ground_Fatalities</td>\n",
       "    </tr>\n",
       "    <tr>\n",
       "      <th>5267</th>\n",
       "      <td>06/08/2009</td>\n",
       "      <td>State of Arunachal Pradesh, India</td>\n",
       "      <td>Military - Indian Air Force</td>\n",
       "      <td>Mechuka for Jorhat</td>\n",
       "      <td>Antonov An-32</td>\n",
       "      <td>49</td>\n",
       "      <td>178</td>\n",
       "      <td>13.0</td>\n",
       "      <td>High Fatalities</td>\n",
       "      <td>Low Ground_Fatalities</td>\n",
       "      <td>The military transport went missing while en r...</td>\n",
       "      <td>High Fatalities</td>\n",
       "      <td>Low Ground_Fatalities</td>\n",
       "    </tr>\n",
       "  </tbody>\n",
       "</table>\n",
       "<p>5268 rows × 13 columns</p>\n",
       "</div>"
      ],
      "text/plain": [
       "            Date                                           Location  \\\n",
       "0     09/17/1908                                Fort Myer, Virginia   \n",
       "1     07/12/1912                            AtlantiCity, New Jersey   \n",
       "2     08/06/1913                 Victoria, British Columbia, Canada   \n",
       "3     09/09/1913                                 Over the North Sea   \n",
       "4     10/17/1913                         Near Johannisthal, Germany   \n",
       "...          ...                                                ...   \n",
       "5263  05/20/2009                             Near Madiun, Indonesia   \n",
       "5264  05/26/2009                  Near Isiro, DemocratiRepubliCongo   \n",
       "5265  06/01/2009  AtlantiOcean, 570 miles northeast of Natal, Br...   \n",
       "5266  06/07/2009       Near Port Hope Simpson, Newfoundland, Canada   \n",
       "5267  06/08/2009                  State of Arunachal Pradesh, India   \n",
       "\n",
       "                             Operator  \\\n",
       "0                Military - U.S. Army   \n",
       "1                Military - U.S. Navy   \n",
       "2                             Private   \n",
       "3              Military - German Navy   \n",
       "4              Military - German Navy   \n",
       "...                               ...   \n",
       "5263  Military - Indonesian Air Force   \n",
       "5264                      Service Air   \n",
       "5265                       Air France   \n",
       "5266                       Strait Air   \n",
       "5267      Military - Indian Air Force   \n",
       "\n",
       "                                          Route  \\\n",
       "0                                 Demonstration   \n",
       "1                                   Test flight   \n",
       "2                                      Training   \n",
       "3                                      Training   \n",
       "4                                      Training   \n",
       "...                                         ...   \n",
       "5263                           Jakarta - Maduin   \n",
       "5264                               Goma - Isiro   \n",
       "5265                     Rio de Janeiro - Paris   \n",
       "5266  Lourdes de BlanSablon - Port Hope Simpson   \n",
       "5267                         Mechuka for Jorhat   \n",
       "\n",
       "                                  Type Registration cn/In  Aboard  \\\n",
       "0                     Wright Flyer III           49     1     2.0   \n",
       "1                            Dirigible           49   178     5.0   \n",
       "2                     Curtiss seaplane           49   178     1.0   \n",
       "3               Zeppelin L-1 (airship)           49   178    20.0   \n",
       "4               Zeppelin L-2 (airship)           49   178    30.0   \n",
       "...                                ...          ...   ...     ...   \n",
       "5263           Lockheed C-130 Hercules       A-1325  1982   112.0   \n",
       "5264                     Antonov An-26       9Q-CSA  5005     4.0   \n",
       "5265                   Airbus A330-203       F-GZCP   660   228.0   \n",
       "5266  Britten-Norman BN-2A-27 Islander      C-FJJR    424     1.0   \n",
       "5267                     Antonov An-32           49   178    13.0   \n",
       "\n",
       "             Fatalities                 Ground  \\\n",
       "0     Medium Fatalities  Low Ground_Fatalities   \n",
       "1       High Fatalities  Low Ground_Fatalities   \n",
       "2       High Fatalities  Low Ground_Fatalities   \n",
       "3       High Fatalities  Low Ground_Fatalities   \n",
       "4       High Fatalities  Low Ground_Fatalities   \n",
       "...                 ...                    ...   \n",
       "5263    High Fatalities  Low Ground_Fatalities   \n",
       "5264    High Fatalities  Low Ground_Fatalities   \n",
       "5265    High Fatalities  Low Ground_Fatalities   \n",
       "5266    High Fatalities  Low Ground_Fatalities   \n",
       "5267    High Fatalities  Low Ground_Fatalities   \n",
       "\n",
       "                                                Summary  \\\n",
       "0     During a demonstration flight, a U.S. Army fly...   \n",
       "1     First U.S. dirigible Akron exploded just offsh...   \n",
       "2     The first fatal airplane accident in Canada oc...   \n",
       "3     The airship flew into a thunderstorm and encou...   \n",
       "4     Hydrogen gas which was being vented was sucked...   \n",
       "...                                                 ...   \n",
       "5263  While on approach, the military transport cras...   \n",
       "5264  The cargo plane crashed while on approach to I...   \n",
       "5265  The Airbus went missing over the AtlantiOcean ...   \n",
       "5266  The air ambulance crashed into hills while att...   \n",
       "5267  The military transport went missing while en r...   \n",
       "\n",
       "     Fatalities_Description Ground_Fatalities_Description  \n",
       "0         Medium Fatalities         Low Ground_Fatalities  \n",
       "1           High Fatalities         Low Ground_Fatalities  \n",
       "2           High Fatalities         Low Ground_Fatalities  \n",
       "3           High Fatalities         Low Ground_Fatalities  \n",
       "4           High Fatalities         Low Ground_Fatalities  \n",
       "...                     ...                           ...  \n",
       "5263        High Fatalities         Low Ground_Fatalities  \n",
       "5264        High Fatalities         Low Ground_Fatalities  \n",
       "5265        High Fatalities         Low Ground_Fatalities  \n",
       "5266        High Fatalities         Low Ground_Fatalities  \n",
       "5267        High Fatalities         Low Ground_Fatalities  \n",
       "\n",
       "[5268 rows x 13 columns]"
      ]
     },
     "execution_count": 304,
     "metadata": {},
     "output_type": "execute_result"
    }
   ],
   "source": [
    "df['Ground_Fatalities_Description']=Ground_Fatalities_Description\n",
    "df"
   ]
  },
  {
   "cell_type": "code",
   "execution_count": 305,
   "metadata": {},
   "outputs": [
    {
     "data": {
      "text/plain": [
       "<seaborn.axisgrid.FacetGrid at 0x1663bc5ad30>"
      ]
     },
     "execution_count": 305,
     "metadata": {},
     "output_type": "execute_result"
    },
    {
     "data": {
      "image/png": "[encoded data removed]",
      "text/plain": [
       "<Figure size 648x216 with 3 Axes>"
      ]
     },
     "metadata": {
      "needs_background": "light"
     },
     "output_type": "display_data"
    }
   ],
   "source": [
    "import seaborn as sns\n",
    "import matplotlib.pyplot as plt\n",
    "g=sns.FacetGrid(df,col='Ground_Fatalities_Description')\n",
    "g.map(plt.hist,'Aboard',bins=20)"
   ]
  },
  {
   "cell_type": "code",
   "execution_count": 306,
   "metadata": {},
   "outputs": [
    {
     "name": "stderr",
     "output_type": "stream",
     "text": [
      "C:\\Users\\SNB\\anaconda3\\lib\\site-packages\\seaborn\\axisgrid.py:243: UserWarning: The `size` parameter has been renamed to `height`; please update your code.\n",
      "  warnings.warn(msg, UserWarning)\n",
      "C:\\Users\\SNB\\anaconda3\\lib\\site-packages\\seaborn\\axisgrid.py:856: UserWarning: Tight layout not applied. tight_layout cannot make axes width small enough to accommodate all axes decorations\n",
      "  self.fig.tight_layout()\n"
     ]
    },
    {
     "data": {
      "text/plain": [
       "<seaborn.axisgrid.FacetGrid at 0x1663bdb6310>"
      ]
     },
     "execution_count": 306,
     "metadata": {},
     "output_type": "execute_result"
    },
    {
     "data": {
      "image/png": "[encoded data removed]",
      "text/plain": [
       "<Figure size 656x648 with 9 Axes>"
      ]
     },
     "metadata": {
      "needs_background": "light"
     },
     "output_type": "display_data"
    }
   ],
   "source": [
    "grid = sns.FacetGrid(df, row= 'Ground_Fatalities_Description', col='Fatalities_Description', size=3, aspect=1)\n",
    "grid.map(plt.hist, 'Aboard', alpha=1)\n",
    "grid.add_legend()"
   ]
  },
  {
   "cell_type": "code",
   "execution_count": 307,
   "metadata": {},
   "outputs": [
    {
     "data": {
      "text/html": [
       "<div>\n",
       "<style scoped>\n",
       "    .dataframe tbody tr th:only-of-type {\n",
       "        vertical-align: middle;\n",
       "    }\n",
       "\n",
       "    .dataframe tbody tr th {\n",
       "        vertical-align: top;\n",
       "    }\n",
       "\n",
       "    .dataframe thead th {\n",
       "        text-align: right;\n",
       "    }\n",
       "</style>\n",
       "<table border=\"1\" class=\"dataframe\">\n",
       "  <thead>\n",
       "    <tr style=\"text-align: right;\">\n",
       "      <th></th>\n",
       "      <th>Date</th>\n",
       "      <th>Location</th>\n",
       "      <th>Operator</th>\n",
       "      <th>Route</th>\n",
       "      <th>Type</th>\n",
       "      <th>Registration</th>\n",
       "      <th>cn/In</th>\n",
       "      <th>Aboard</th>\n",
       "      <th>Summary</th>\n",
       "      <th>Fatalities_Description</th>\n",
       "      <th>Ground_Fatalities_Description</th>\n",
       "    </tr>\n",
       "  </thead>\n",
       "  <tbody>\n",
       "    <tr>\n",
       "      <th>0</th>\n",
       "      <td>09/17/1908</td>\n",
       "      <td>Fort Myer, Virginia</td>\n",
       "      <td>Military - U.S. Army</td>\n",
       "      <td>Demonstration</td>\n",
       "      <td>Wright Flyer III</td>\n",
       "      <td>49</td>\n",
       "      <td>1</td>\n",
       "      <td>2.0</td>\n",
       "      <td>During a demonstration flight, a U.S. Army fly...</td>\n",
       "      <td>Medium Fatalities</td>\n",
       "      <td>Low Ground_Fatalities</td>\n",
       "    </tr>\n",
       "    <tr>\n",
       "      <th>1</th>\n",
       "      <td>07/12/1912</td>\n",
       "      <td>AtlantiCity, New Jersey</td>\n",
       "      <td>Military - U.S. Navy</td>\n",
       "      <td>Test flight</td>\n",
       "      <td>Dirigible</td>\n",
       "      <td>49</td>\n",
       "      <td>178</td>\n",
       "      <td>5.0</td>\n",
       "      <td>First U.S. dirigible Akron exploded just offsh...</td>\n",
       "      <td>High Fatalities</td>\n",
       "      <td>Low Ground_Fatalities</td>\n",
       "    </tr>\n",
       "    <tr>\n",
       "      <th>2</th>\n",
       "      <td>08/06/1913</td>\n",
       "      <td>Victoria, British Columbia, Canada</td>\n",
       "      <td>Private</td>\n",
       "      <td>Training</td>\n",
       "      <td>Curtiss seaplane</td>\n",
       "      <td>49</td>\n",
       "      <td>178</td>\n",
       "      <td>1.0</td>\n",
       "      <td>The first fatal airplane accident in Canada oc...</td>\n",
       "      <td>High Fatalities</td>\n",
       "      <td>Low Ground_Fatalities</td>\n",
       "    </tr>\n",
       "    <tr>\n",
       "      <th>3</th>\n",
       "      <td>09/09/1913</td>\n",
       "      <td>Over the North Sea</td>\n",
       "      <td>Military - German Navy</td>\n",
       "      <td>Training</td>\n",
       "      <td>Zeppelin L-1 (airship)</td>\n",
       "      <td>49</td>\n",
       "      <td>178</td>\n",
       "      <td>20.0</td>\n",
       "      <td>The airship flew into a thunderstorm and encou...</td>\n",
       "      <td>High Fatalities</td>\n",
       "      <td>Low Ground_Fatalities</td>\n",
       "    </tr>\n",
       "    <tr>\n",
       "      <th>4</th>\n",
       "      <td>10/17/1913</td>\n",
       "      <td>Near Johannisthal, Germany</td>\n",
       "      <td>Military - German Navy</td>\n",
       "      <td>Training</td>\n",
       "      <td>Zeppelin L-2 (airship)</td>\n",
       "      <td>49</td>\n",
       "      <td>178</td>\n",
       "      <td>30.0</td>\n",
       "      <td>Hydrogen gas which was being vented was sucked...</td>\n",
       "      <td>High Fatalities</td>\n",
       "      <td>Low Ground_Fatalities</td>\n",
       "    </tr>\n",
       "    <tr>\n",
       "      <th>...</th>\n",
       "      <td>...</td>\n",
       "      <td>...</td>\n",
       "      <td>...</td>\n",
       "      <td>...</td>\n",
       "      <td>...</td>\n",
       "      <td>...</td>\n",
       "      <td>...</td>\n",
       "      <td>...</td>\n",
       "      <td>...</td>\n",
       "      <td>...</td>\n",
       "      <td>...</td>\n",
       "    </tr>\n",
       "    <tr>\n",
       "      <th>5263</th>\n",
       "      <td>05/20/2009</td>\n",
       "      <td>Near Madiun, Indonesia</td>\n",
       "      <td>Military - Indonesian Air Force</td>\n",
       "      <td>Jakarta - Maduin</td>\n",
       "      <td>Lockheed C-130 Hercules</td>\n",
       "      <td>A-1325</td>\n",
       "      <td>1982</td>\n",
       "      <td>112.0</td>\n",
       "      <td>While on approach, the military transport cras...</td>\n",
       "      <td>High Fatalities</td>\n",
       "      <td>Low Ground_Fatalities</td>\n",
       "    </tr>\n",
       "    <tr>\n",
       "      <th>5264</th>\n",
       "      <td>05/26/2009</td>\n",
       "      <td>Near Isiro, DemocratiRepubliCongo</td>\n",
       "      <td>Service Air</td>\n",
       "      <td>Goma - Isiro</td>\n",
       "      <td>Antonov An-26</td>\n",
       "      <td>9Q-CSA</td>\n",
       "      <td>5005</td>\n",
       "      <td>4.0</td>\n",
       "      <td>The cargo plane crashed while on approach to I...</td>\n",
       "      <td>High Fatalities</td>\n",
       "      <td>Low Ground_Fatalities</td>\n",
       "    </tr>\n",
       "    <tr>\n",
       "      <th>5265</th>\n",
       "      <td>06/01/2009</td>\n",
       "      <td>AtlantiOcean, 570 miles northeast of Natal, Br...</td>\n",
       "      <td>Air France</td>\n",
       "      <td>Rio de Janeiro - Paris</td>\n",
       "      <td>Airbus A330-203</td>\n",
       "      <td>F-GZCP</td>\n",
       "      <td>660</td>\n",
       "      <td>228.0</td>\n",
       "      <td>The Airbus went missing over the AtlantiOcean ...</td>\n",
       "      <td>High Fatalities</td>\n",
       "      <td>Low Ground_Fatalities</td>\n",
       "    </tr>\n",
       "    <tr>\n",
       "      <th>5266</th>\n",
       "      <td>06/07/2009</td>\n",
       "      <td>Near Port Hope Simpson, Newfoundland, Canada</td>\n",
       "      <td>Strait Air</td>\n",
       "      <td>Lourdes de BlanSablon - Port Hope Simpson</td>\n",
       "      <td>Britten-Norman BN-2A-27 Islander</td>\n",
       "      <td>C-FJJR</td>\n",
       "      <td>424</td>\n",
       "      <td>1.0</td>\n",
       "      <td>The air ambulance crashed into hills while att...</td>\n",
       "      <td>High Fatalities</td>\n",
       "      <td>Low Ground_Fatalities</td>\n",
       "    </tr>\n",
       "    <tr>\n",
       "      <th>5267</th>\n",
       "      <td>06/08/2009</td>\n",
       "      <td>State of Arunachal Pradesh, India</td>\n",
       "      <td>Military - Indian Air Force</td>\n",
       "      <td>Mechuka for Jorhat</td>\n",
       "      <td>Antonov An-32</td>\n",
       "      <td>49</td>\n",
       "      <td>178</td>\n",
       "      <td>13.0</td>\n",
       "      <td>The military transport went missing while en r...</td>\n",
       "      <td>High Fatalities</td>\n",
       "      <td>Low Ground_Fatalities</td>\n",
       "    </tr>\n",
       "  </tbody>\n",
       "</table>\n",
       "<p>5268 rows × 11 columns</p>\n",
       "</div>"
      ],
      "text/plain": [
       "            Date                                           Location  \\\n",
       "0     09/17/1908                                Fort Myer, Virginia   \n",
       "1     07/12/1912                            AtlantiCity, New Jersey   \n",
       "2     08/06/1913                 Victoria, British Columbia, Canada   \n",
       "3     09/09/1913                                 Over the North Sea   \n",
       "4     10/17/1913                         Near Johannisthal, Germany   \n",
       "...          ...                                                ...   \n",
       "5263  05/20/2009                             Near Madiun, Indonesia   \n",
       "5264  05/26/2009                  Near Isiro, DemocratiRepubliCongo   \n",
       "5265  06/01/2009  AtlantiOcean, 570 miles northeast of Natal, Br...   \n",
       "5266  06/07/2009       Near Port Hope Simpson, Newfoundland, Canada   \n",
       "5267  06/08/2009                  State of Arunachal Pradesh, India   \n",
       "\n",
       "                             Operator  \\\n",
       "0                Military - U.S. Army   \n",
       "1                Military - U.S. Navy   \n",
       "2                             Private   \n",
       "3              Military - German Navy   \n",
       "4              Military - German Navy   \n",
       "...                               ...   \n",
       "5263  Military - Indonesian Air Force   \n",
       "5264                      Service Air   \n",
       "5265                       Air France   \n",
       "5266                       Strait Air   \n",
       "5267      Military - Indian Air Force   \n",
       "\n",
       "                                          Route  \\\n",
       "0                                 Demonstration   \n",
       "1                                   Test flight   \n",
       "2                                      Training   \n",
       "3                                      Training   \n",
       "4                                      Training   \n",
       "...                                         ...   \n",
       "5263                           Jakarta - Maduin   \n",
       "5264                               Goma - Isiro   \n",
       "5265                     Rio de Janeiro - Paris   \n",
       "5266  Lourdes de BlanSablon - Port Hope Simpson   \n",
       "5267                         Mechuka for Jorhat   \n",
       "\n",
       "                                  Type Registration cn/In  Aboard  \\\n",
       "0                     Wright Flyer III           49     1     2.0   \n",
       "1                            Dirigible           49   178     5.0   \n",
       "2                     Curtiss seaplane           49   178     1.0   \n",
       "3               Zeppelin L-1 (airship)           49   178    20.0   \n",
       "4               Zeppelin L-2 (airship)           49   178    30.0   \n",
       "...                                ...          ...   ...     ...   \n",
       "5263           Lockheed C-130 Hercules       A-1325  1982   112.0   \n",
       "5264                     Antonov An-26       9Q-CSA  5005     4.0   \n",
       "5265                   Airbus A330-203       F-GZCP   660   228.0   \n",
       "5266  Britten-Norman BN-2A-27 Islander      C-FJJR    424     1.0   \n",
       "5267                     Antonov An-32           49   178    13.0   \n",
       "\n",
       "                                                Summary  \\\n",
       "0     During a demonstration flight, a U.S. Army fly...   \n",
       "1     First U.S. dirigible Akron exploded just offsh...   \n",
       "2     The first fatal airplane accident in Canada oc...   \n",
       "3     The airship flew into a thunderstorm and encou...   \n",
       "4     Hydrogen gas which was being vented was sucked...   \n",
       "...                                                 ...   \n",
       "5263  While on approach, the military transport cras...   \n",
       "5264  The cargo plane crashed while on approach to I...   \n",
       "5265  The Airbus went missing over the AtlantiOcean ...   \n",
       "5266  The air ambulance crashed into hills while att...   \n",
       "5267  The military transport went missing while en r...   \n",
       "\n",
       "     Fatalities_Description Ground_Fatalities_Description  \n",
       "0         Medium Fatalities         Low Ground_Fatalities  \n",
       "1           High Fatalities         Low Ground_Fatalities  \n",
       "2           High Fatalities         Low Ground_Fatalities  \n",
       "3           High Fatalities         Low Ground_Fatalities  \n",
       "4           High Fatalities         Low Ground_Fatalities  \n",
       "...                     ...                           ...  \n",
       "5263        High Fatalities         Low Ground_Fatalities  \n",
       "5264        High Fatalities         Low Ground_Fatalities  \n",
       "5265        High Fatalities         Low Ground_Fatalities  \n",
       "5266        High Fatalities         Low Ground_Fatalities  \n",
       "5267        High Fatalities         Low Ground_Fatalities  \n",
       "\n",
       "[5268 rows x 11 columns]"
      ]
     },
     "execution_count": 307,
     "metadata": {},
     "output_type": "execute_result"
    }
   ],
   "source": [
    "df.drop('Fatalities',axis=1, inplace=True)\n",
    "df.drop('Ground',axis=1, inplace=True)\n",
    "df"
   ]
  },
  {
   "cell_type": "code",
   "execution_count": 308,
   "metadata": {},
   "outputs": [
    {
     "name": "stdout",
     "output_type": "stream",
     "text": [
      "High Fatalities      4153\n",
      "Low Fatalities        591\n",
      "Medium Fatalities     524\n",
      "Name: Fatalities_Description, dtype: int64\n"
     ]
    }
   ],
   "source": [
    "print(df['Fatalities_Description'].value_counts())"
   ]
  },
  {
   "cell_type": "code",
   "execution_count": 309,
   "metadata": {},
   "outputs": [
    {
     "name": "stdout",
     "output_type": "stream",
     "text": [
      "Low Ground_Fatalities       5200\n",
      "Medium Ground_Fatalities      62\n",
      "High Ground_Fatalities         6\n",
      "Name: Ground_Fatalities_Description, dtype: int64\n"
     ]
    }
   ],
   "source": [
    "print(df['Ground_Fatalities_Description'].value_counts())"
   ]
  },
  {
   "cell_type": "code",
   "execution_count": 310,
   "metadata": {},
   "outputs": [
    {
     "name": "stderr",
     "output_type": "stream",
     "text": [
      "<ipython-input-310-a88c94acc150>:4: SettingWithCopyWarning: \n",
      "A value is trying to be set on a copy of a slice from a DataFrame\n",
      "\n",
      "See the caveats in the documentation: https://pandas.pydata.org/pandas-docs/stable/user_guide/indexing.html#returning-a-view-versus-a-copy\n",
      "  df['Summary'][i]='others'\n"
     ]
    },
    {
     "name": "stdout",
     "output_type": "stream",
     "text": [
      "others                      4816\n",
      "Crashed during takeoff.      405\n",
      "Crashed into a mountain.      12\n",
      "Crashed while en route.       12\n",
      "Crashed into the sea.         12\n",
      "Struck a mountain.            11\n",
      "Name: Summary, dtype: int64\n"
     ]
    }
   ],
   "source": [
    "a=len(df['Summary'])\n",
    "for i in range(0,a):\n",
    "    if df['Summary'][i]!='Crashed during takeoff.' and df['Summary'][i]!='Crashed into the sea.' and df['Summary'][i]!='Crashed while en route.' and df['Summary'][i]!='Crashed into a mountain.' and df['Summary'][i]!='Struck a mountain.':\n",
    "        df['Summary'][i]='others'\n",
    "print(df['Summary'].value_counts())\n",
    "            "
   ]
  },
  {
   "cell_type": "code",
   "execution_count": 311,
   "metadata": {},
   "outputs": [
    {
     "name": "stderr",
     "output_type": "stream",
     "text": [
      "<ipython-input-311-5d2dbd8e1bbd>:4: SettingWithCopyWarning: \n",
      "A value is trying to be set on a copy of a slice from a DataFrame\n",
      "\n",
      "See the caveats in the documentation: https://pandas.pydata.org/pandas-docs/stable/user_guide/indexing.html#returning-a-view-versus-a-copy\n",
      "  df['Location'][i]='others'\n"
     ]
    },
    {
     "name": "stdout",
     "output_type": "stream",
     "text": [
      "others                    5178\n",
      "Sao Paulo, Brazil           35\n",
      "Moscow, Russia              15\n",
      "Rio de Janeiro, Brazil      14\n",
      "Manila, Philippines         13\n",
      "Anchorage, Alaska           13\n",
      "Name: Location, dtype: int64\n"
     ]
    }
   ],
   "source": [
    "b=len(df['Location'])\n",
    "for i in range(0,a):\n",
    "    if df['Location'][i]!='Sao Paulo, Brazil' and df['Location'][i]!='Moscow, Russia' and df['Location'][i]!='Rio de Janeiro, Brazil' and df['Location'][i]!='Anchorage, Alaska' and df['Location'][i]!='Manila, Philippines':\n",
    "        df['Location'][i]='others'\n",
    "print(df['Location'].value_counts())"
   ]
  },
  {
   "cell_type": "code",
   "execution_count": 312,
   "metadata": {},
   "outputs": [
    {
     "name": "stdout",
     "output_type": "stream",
     "text": [
      "Aeroflot                                           197\n",
      "Military - U.S. Air Force                          176\n",
      "Air France                                          70\n",
      "Deutsche Lufthansa                                  65\n",
      "United Air Lines                                    44\n",
      "                                                  ... \n",
      "Air Bissau                                           1\n",
      "Compagnie Internationale de Navigation Aérienne      1\n",
      "Scandinavian Airlines (SAS) / Private                1\n",
      "Papillon Grand Canyon Helicopters of Las Vegas       1\n",
      "Aerolineas La Gaviola                                1\n",
      "Name: Operator, Length: 2476, dtype: int64\n"
     ]
    }
   ],
   "source": [
    "print(df['Operator'].value_counts())"
   ]
  },
  {
   "cell_type": "code",
   "execution_count": 313,
   "metadata": {},
   "outputs": [
    {
     "name": "stderr",
     "output_type": "stream",
     "text": [
      "<ipython-input-313-00489577d095>:4: SettingWithCopyWarning: \n",
      "A value is trying to be set on a copy of a slice from a DataFrame\n",
      "\n",
      "See the caveats in the documentation: https://pandas.pydata.org/pandas-docs/stable/user_guide/indexing.html#returning-a-view-versus-a-copy\n",
      "  df['Operator'][i]='others'\n"
     ]
    },
    {
     "name": "stdout",
     "output_type": "stream",
     "text": [
      "others                       4716\n",
      "Aeroflot                      197\n",
      "Military - U.S. Air Force     176\n",
      "Air France                     70\n",
      "Deutsche Lufthansa             65\n",
      "United Air Lines               44\n",
      "Name: Operator, dtype: int64\n"
     ]
    }
   ],
   "source": [
    "b=len(df['Operator'])\n",
    "for i in range(0,a):\n",
    "    if df['Operator'][i]!='Aeroflot' and df['Operator'][i]!='Military - U.S. Air Force' and df['Operator'][i]!='Air France' and df['Operator'][i]!='Deutsche Lufthansa' and df['Operator'][i]!='United Air Lines':\n",
    "        df['Operator'][i]='others'\n",
    "print(df['Operator'].value_counts())"
   ]
  },
  {
   "cell_type": "code",
   "execution_count": 314,
   "metadata": {},
   "outputs": [
    {
     "name": "stderr",
     "output_type": "stream",
     "text": [
      "<ipython-input-314-bb147082e2ee>:4: SettingWithCopyWarning: \n",
      "A value is trying to be set on a copy of a slice from a DataFrame\n",
      "\n",
      "See the caveats in the documentation: https://pandas.pydata.org/pandas-docs/stable/user_guide/indexing.html#returning-a-view-versus-a-copy\n",
      "  df['Route'][i]='others'\n"
     ]
    },
    {
     "name": "stdout",
     "output_type": "stream",
     "text": [
      "others                        3424\n",
      "Training                      1787\n",
      "Sightseeing                     29\n",
      "Test flight                     17\n",
      "Test                             6\n",
      "Sao Paulo - Rio de Janeiro       5\n",
      "Name: Route, dtype: int64\n"
     ]
    }
   ],
   "source": [
    "b=len(df['Route'])\n",
    "for i in range(0,a):\n",
    "    if df['Route'][i]!='Training' and df['Route'][i]!='Sightseeing' and df['Route'][i]!='Test flight' and df['Route'][i]!='Test' and df['Route'][i]!='Sao Paulo - Rio de Janeiro':\n",
    "        df['Route'][i]='others'\n",
    "print(df['Route'].value_counts())"
   ]
  },
  {
   "cell_type": "code",
   "execution_count": 315,
   "metadata": {},
   "outputs": [
    {
     "name": "stderr",
     "output_type": "stream",
     "text": [
      "<ipython-input-315-e59803804aa8>:4: SettingWithCopyWarning: \n",
      "A value is trying to be set on a copy of a slice from a DataFrame\n",
      "\n",
      "See the caveats in the documentation: https://pandas.pydata.org/pandas-docs/stable/user_guide/indexing.html#returning-a-view-versus-a-copy\n",
      "  df['Type'][i]='others'\n"
     ]
    },
    {
     "name": "stdout",
     "output_type": "stream",
     "text": [
      "others                                      4650\n",
      "Douglas DC-3                                 361\n",
      "de Havilland Canada DHC-6 Twin Otter 300      81\n",
      "Douglas C-47A                                 74\n",
      "Douglas C-47                                  62\n",
      "Douglas DC-4                                  40\n",
      "Name: Type, dtype: int64\n"
     ]
    }
   ],
   "source": [
    "b=len(df['Type'])\n",
    "for i in range(0,a):\n",
    "    if df['Type'][i]!='Douglas DC-3' and df['Type'][i]!='de Havilland Canada DHC-6 Twin Otter 300' and df['Type'][i]!='Douglas C-47A' and df['Type'][i]!='Douglas C-47' and df['Type'][i]!='Douglas DC-4':\n",
    "        df['Type'][i]='others'\n",
    "print(df['Type'].value_counts())"
   ]
  },
  {
   "cell_type": "code",
   "execution_count": 316,
   "metadata": {},
   "outputs": [
    {
     "data": {
      "text/html": [
       "<div>\n",
       "<style scoped>\n",
       "    .dataframe tbody tr th:only-of-type {\n",
       "        vertical-align: middle;\n",
       "    }\n",
       "\n",
       "    .dataframe tbody tr th {\n",
       "        vertical-align: top;\n",
       "    }\n",
       "\n",
       "    .dataframe thead th {\n",
       "        text-align: right;\n",
       "    }\n",
       "</style>\n",
       "<table border=\"1\" class=\"dataframe\">\n",
       "  <thead>\n",
       "    <tr style=\"text-align: right;\">\n",
       "      <th></th>\n",
       "      <th>Date</th>\n",
       "      <th>Location</th>\n",
       "      <th>Operator</th>\n",
       "      <th>Route</th>\n",
       "      <th>Type</th>\n",
       "      <th>Registration</th>\n",
       "      <th>cn/In</th>\n",
       "      <th>Aboard</th>\n",
       "      <th>Summary</th>\n",
       "      <th>Fatalities_Description</th>\n",
       "      <th>Ground_Fatalities_Description</th>\n",
       "    </tr>\n",
       "  </thead>\n",
       "  <tbody>\n",
       "    <tr>\n",
       "      <th>0</th>\n",
       "      <td>09/17/1908</td>\n",
       "      <td>others</td>\n",
       "      <td>others</td>\n",
       "      <td>others</td>\n",
       "      <td>others</td>\n",
       "      <td>49</td>\n",
       "      <td>1</td>\n",
       "      <td>2.0</td>\n",
       "      <td>others</td>\n",
       "      <td>Medium Fatalities</td>\n",
       "      <td>Low Ground_Fatalities</td>\n",
       "    </tr>\n",
       "    <tr>\n",
       "      <th>1</th>\n",
       "      <td>07/12/1912</td>\n",
       "      <td>others</td>\n",
       "      <td>others</td>\n",
       "      <td>Test flight</td>\n",
       "      <td>others</td>\n",
       "      <td>49</td>\n",
       "      <td>178</td>\n",
       "      <td>5.0</td>\n",
       "      <td>others</td>\n",
       "      <td>High Fatalities</td>\n",
       "      <td>Low Ground_Fatalities</td>\n",
       "    </tr>\n",
       "    <tr>\n",
       "      <th>2</th>\n",
       "      <td>08/06/1913</td>\n",
       "      <td>others</td>\n",
       "      <td>others</td>\n",
       "      <td>Training</td>\n",
       "      <td>others</td>\n",
       "      <td>49</td>\n",
       "      <td>178</td>\n",
       "      <td>1.0</td>\n",
       "      <td>others</td>\n",
       "      <td>High Fatalities</td>\n",
       "      <td>Low Ground_Fatalities</td>\n",
       "    </tr>\n",
       "    <tr>\n",
       "      <th>3</th>\n",
       "      <td>09/09/1913</td>\n",
       "      <td>others</td>\n",
       "      <td>others</td>\n",
       "      <td>Training</td>\n",
       "      <td>others</td>\n",
       "      <td>49</td>\n",
       "      <td>178</td>\n",
       "      <td>20.0</td>\n",
       "      <td>others</td>\n",
       "      <td>High Fatalities</td>\n",
       "      <td>Low Ground_Fatalities</td>\n",
       "    </tr>\n",
       "    <tr>\n",
       "      <th>4</th>\n",
       "      <td>10/17/1913</td>\n",
       "      <td>others</td>\n",
       "      <td>others</td>\n",
       "      <td>Training</td>\n",
       "      <td>others</td>\n",
       "      <td>49</td>\n",
       "      <td>178</td>\n",
       "      <td>30.0</td>\n",
       "      <td>others</td>\n",
       "      <td>High Fatalities</td>\n",
       "      <td>Low Ground_Fatalities</td>\n",
       "    </tr>\n",
       "    <tr>\n",
       "      <th>...</th>\n",
       "      <td>...</td>\n",
       "      <td>...</td>\n",
       "      <td>...</td>\n",
       "      <td>...</td>\n",
       "      <td>...</td>\n",
       "      <td>...</td>\n",
       "      <td>...</td>\n",
       "      <td>...</td>\n",
       "      <td>...</td>\n",
       "      <td>...</td>\n",
       "      <td>...</td>\n",
       "    </tr>\n",
       "    <tr>\n",
       "      <th>5263</th>\n",
       "      <td>05/20/2009</td>\n",
       "      <td>others</td>\n",
       "      <td>others</td>\n",
       "      <td>others</td>\n",
       "      <td>others</td>\n",
       "      <td>A-1325</td>\n",
       "      <td>1982</td>\n",
       "      <td>112.0</td>\n",
       "      <td>others</td>\n",
       "      <td>High Fatalities</td>\n",
       "      <td>Low Ground_Fatalities</td>\n",
       "    </tr>\n",
       "    <tr>\n",
       "      <th>5264</th>\n",
       "      <td>05/26/2009</td>\n",
       "      <td>others</td>\n",
       "      <td>others</td>\n",
       "      <td>others</td>\n",
       "      <td>others</td>\n",
       "      <td>9Q-CSA</td>\n",
       "      <td>5005</td>\n",
       "      <td>4.0</td>\n",
       "      <td>others</td>\n",
       "      <td>High Fatalities</td>\n",
       "      <td>Low Ground_Fatalities</td>\n",
       "    </tr>\n",
       "    <tr>\n",
       "      <th>5265</th>\n",
       "      <td>06/01/2009</td>\n",
       "      <td>others</td>\n",
       "      <td>Air France</td>\n",
       "      <td>others</td>\n",
       "      <td>others</td>\n",
       "      <td>F-GZCP</td>\n",
       "      <td>660</td>\n",
       "      <td>228.0</td>\n",
       "      <td>others</td>\n",
       "      <td>High Fatalities</td>\n",
       "      <td>Low Ground_Fatalities</td>\n",
       "    </tr>\n",
       "    <tr>\n",
       "      <th>5266</th>\n",
       "      <td>06/07/2009</td>\n",
       "      <td>others</td>\n",
       "      <td>others</td>\n",
       "      <td>others</td>\n",
       "      <td>others</td>\n",
       "      <td>C-FJJR</td>\n",
       "      <td>424</td>\n",
       "      <td>1.0</td>\n",
       "      <td>others</td>\n",
       "      <td>High Fatalities</td>\n",
       "      <td>Low Ground_Fatalities</td>\n",
       "    </tr>\n",
       "    <tr>\n",
       "      <th>5267</th>\n",
       "      <td>06/08/2009</td>\n",
       "      <td>others</td>\n",
       "      <td>others</td>\n",
       "      <td>others</td>\n",
       "      <td>others</td>\n",
       "      <td>49</td>\n",
       "      <td>178</td>\n",
       "      <td>13.0</td>\n",
       "      <td>others</td>\n",
       "      <td>High Fatalities</td>\n",
       "      <td>Low Ground_Fatalities</td>\n",
       "    </tr>\n",
       "  </tbody>\n",
       "</table>\n",
       "<p>5268 rows × 11 columns</p>\n",
       "</div>"
      ],
      "text/plain": [
       "            Date Location    Operator        Route    Type Registration cn/In  \\\n",
       "0     09/17/1908   others      others       others  others           49     1   \n",
       "1     07/12/1912   others      others  Test flight  others           49   178   \n",
       "2     08/06/1913   others      others     Training  others           49   178   \n",
       "3     09/09/1913   others      others     Training  others           49   178   \n",
       "4     10/17/1913   others      others     Training  others           49   178   \n",
       "...          ...      ...         ...          ...     ...          ...   ...   \n",
       "5263  05/20/2009   others      others       others  others       A-1325  1982   \n",
       "5264  05/26/2009   others      others       others  others       9Q-CSA  5005   \n",
       "5265  06/01/2009   others  Air France       others  others       F-GZCP   660   \n",
       "5266  06/07/2009   others      others       others  others      C-FJJR    424   \n",
       "5267  06/08/2009   others      others       others  others           49   178   \n",
       "\n",
       "      Aboard Summary Fatalities_Description Ground_Fatalities_Description  \n",
       "0        2.0  others      Medium Fatalities         Low Ground_Fatalities  \n",
       "1        5.0  others        High Fatalities         Low Ground_Fatalities  \n",
       "2        1.0  others        High Fatalities         Low Ground_Fatalities  \n",
       "3       20.0  others        High Fatalities         Low Ground_Fatalities  \n",
       "4       30.0  others        High Fatalities         Low Ground_Fatalities  \n",
       "...      ...     ...                    ...                           ...  \n",
       "5263   112.0  others        High Fatalities         Low Ground_Fatalities  \n",
       "5264     4.0  others        High Fatalities         Low Ground_Fatalities  \n",
       "5265   228.0  others        High Fatalities         Low Ground_Fatalities  \n",
       "5266     1.0  others        High Fatalities         Low Ground_Fatalities  \n",
       "5267    13.0  others        High Fatalities         Low Ground_Fatalities  \n",
       "\n",
       "[5268 rows x 11 columns]"
      ]
     },
     "execution_count": 316,
     "metadata": {},
     "output_type": "execute_result"
    }
   ],
   "source": [
    "df"
   ]
  },
  {
   "cell_type": "code",
   "execution_count": 317,
   "metadata": {},
   "outputs": [
    {
     "name": "stderr",
     "output_type": "stream",
     "text": [
      "C:\\Users\\SNB\\anaconda3\\lib\\site-packages\\seaborn\\axisgrid.py:243: UserWarning: The `size` parameter has been renamed to `height`; please update your code.\n",
      "  warnings.warn(msg, UserWarning)\n"
     ]
    },
    {
     "data": {
      "text/plain": [
       "<seaborn.axisgrid.FacetGrid at 0x1663c18e850>"
      ]
     },
     "execution_count": 317,
     "metadata": {},
     "output_type": "execute_result"
    },
    {
     "data": {
      "image/png": "[encoded data removed]",
      "text/plain": [
       "<Figure size 1088x2160 with 18 Axes>"
      ]
     },
     "metadata": {
      "needs_background": "light"
     },
     "output_type": "display_data"
    }
   ],
   "source": [
    "grid = sns.FacetGrid(df, row= 'Summary', col='Fatalities_Description', size=5, aspect=1)\n",
    "grid.map(plt.hist, 'Aboard', alpha=1)\n",
    "grid.add_legend()"
   ]
  },
  {
   "cell_type": "code",
   "execution_count": 318,
   "metadata": {},
   "outputs": [
    {
     "data": {
      "text/html": [
       "<div>\n",
       "<style scoped>\n",
       "    .dataframe tbody tr th:only-of-type {\n",
       "        vertical-align: middle;\n",
       "    }\n",
       "\n",
       "    .dataframe tbody tr th {\n",
       "        vertical-align: top;\n",
       "    }\n",
       "\n",
       "    .dataframe thead th {\n",
       "        text-align: right;\n",
       "    }\n",
       "</style>\n",
       "<table border=\"1\" class=\"dataframe\">\n",
       "  <thead>\n",
       "    <tr style=\"text-align: right;\">\n",
       "      <th></th>\n",
       "      <th>Date</th>\n",
       "      <th>Location</th>\n",
       "      <th>Operator</th>\n",
       "      <th>Route</th>\n",
       "      <th>Type</th>\n",
       "      <th>Registration</th>\n",
       "      <th>cn/In</th>\n",
       "      <th>Aboard</th>\n",
       "      <th>Summary</th>\n",
       "      <th>Fatalities_Description</th>\n",
       "      <th>Ground_Fatalities_Description</th>\n",
       "    </tr>\n",
       "  </thead>\n",
       "  <tbody>\n",
       "    <tr>\n",
       "      <th>0</th>\n",
       "      <td>09/17/1908</td>\n",
       "      <td>0</td>\n",
       "      <td>0</td>\n",
       "      <td>0</td>\n",
       "      <td>0</td>\n",
       "      <td>49</td>\n",
       "      <td>1</td>\n",
       "      <td>2.0</td>\n",
       "      <td>0</td>\n",
       "      <td>1</td>\n",
       "      <td>0</td>\n",
       "    </tr>\n",
       "    <tr>\n",
       "      <th>1</th>\n",
       "      <td>07/12/1912</td>\n",
       "      <td>0</td>\n",
       "      <td>0</td>\n",
       "      <td>3</td>\n",
       "      <td>0</td>\n",
       "      <td>49</td>\n",
       "      <td>178</td>\n",
       "      <td>5.0</td>\n",
       "      <td>0</td>\n",
       "      <td>2</td>\n",
       "      <td>0</td>\n",
       "    </tr>\n",
       "    <tr>\n",
       "      <th>2</th>\n",
       "      <td>08/06/1913</td>\n",
       "      <td>0</td>\n",
       "      <td>0</td>\n",
       "      <td>1</td>\n",
       "      <td>0</td>\n",
       "      <td>49</td>\n",
       "      <td>178</td>\n",
       "      <td>1.0</td>\n",
       "      <td>0</td>\n",
       "      <td>2</td>\n",
       "      <td>0</td>\n",
       "    </tr>\n",
       "    <tr>\n",
       "      <th>3</th>\n",
       "      <td>09/09/1913</td>\n",
       "      <td>0</td>\n",
       "      <td>0</td>\n",
       "      <td>1</td>\n",
       "      <td>0</td>\n",
       "      <td>49</td>\n",
       "      <td>178</td>\n",
       "      <td>20.0</td>\n",
       "      <td>0</td>\n",
       "      <td>2</td>\n",
       "      <td>0</td>\n",
       "    </tr>\n",
       "    <tr>\n",
       "      <th>4</th>\n",
       "      <td>10/17/1913</td>\n",
       "      <td>0</td>\n",
       "      <td>0</td>\n",
       "      <td>1</td>\n",
       "      <td>0</td>\n",
       "      <td>49</td>\n",
       "      <td>178</td>\n",
       "      <td>30.0</td>\n",
       "      <td>0</td>\n",
       "      <td>2</td>\n",
       "      <td>0</td>\n",
       "    </tr>\n",
       "    <tr>\n",
       "      <th>5</th>\n",
       "      <td>03/05/1915</td>\n",
       "      <td>0</td>\n",
       "      <td>0</td>\n",
       "      <td>1</td>\n",
       "      <td>0</td>\n",
       "      <td>49</td>\n",
       "      <td>178</td>\n",
       "      <td>41.0</td>\n",
       "      <td>0</td>\n",
       "      <td>1</td>\n",
       "      <td>0</td>\n",
       "    </tr>\n",
       "    <tr>\n",
       "      <th>6</th>\n",
       "      <td>09/03/1915</td>\n",
       "      <td>0</td>\n",
       "      <td>0</td>\n",
       "      <td>1</td>\n",
       "      <td>0</td>\n",
       "      <td>49</td>\n",
       "      <td>178</td>\n",
       "      <td>19.0</td>\n",
       "      <td>0</td>\n",
       "      <td>2</td>\n",
       "      <td>0</td>\n",
       "    </tr>\n",
       "    <tr>\n",
       "      <th>7</th>\n",
       "      <td>07/28/1916</td>\n",
       "      <td>0</td>\n",
       "      <td>0</td>\n",
       "      <td>1</td>\n",
       "      <td>0</td>\n",
       "      <td>49</td>\n",
       "      <td>178</td>\n",
       "      <td>20.0</td>\n",
       "      <td>0</td>\n",
       "      <td>2</td>\n",
       "      <td>0</td>\n",
       "    </tr>\n",
       "    <tr>\n",
       "      <th>8</th>\n",
       "      <td>09/24/1916</td>\n",
       "      <td>0</td>\n",
       "      <td>0</td>\n",
       "      <td>1</td>\n",
       "      <td>0</td>\n",
       "      <td>49</td>\n",
       "      <td>178</td>\n",
       "      <td>22.0</td>\n",
       "      <td>0</td>\n",
       "      <td>2</td>\n",
       "      <td>0</td>\n",
       "    </tr>\n",
       "    <tr>\n",
       "      <th>9</th>\n",
       "      <td>10/01/1916</td>\n",
       "      <td>0</td>\n",
       "      <td>0</td>\n",
       "      <td>1</td>\n",
       "      <td>0</td>\n",
       "      <td>49</td>\n",
       "      <td>178</td>\n",
       "      <td>19.0</td>\n",
       "      <td>0</td>\n",
       "      <td>2</td>\n",
       "      <td>0</td>\n",
       "    </tr>\n",
       "  </tbody>\n",
       "</table>\n",
       "</div>"
      ],
      "text/plain": [
       "         Date  Location  Operator  Route  Type Registration cn/In  Aboard  \\\n",
       "0  09/17/1908         0         0      0     0           49     1     2.0   \n",
       "1  07/12/1912         0         0      3     0           49   178     5.0   \n",
       "2  08/06/1913         0         0      1     0           49   178     1.0   \n",
       "3  09/09/1913         0         0      1     0           49   178    20.0   \n",
       "4  10/17/1913         0         0      1     0           49   178    30.0   \n",
       "5  03/05/1915         0         0      1     0           49   178    41.0   \n",
       "6  09/03/1915         0         0      1     0           49   178    19.0   \n",
       "7  07/28/1916         0         0      1     0           49   178    20.0   \n",
       "8  09/24/1916         0         0      1     0           49   178    22.0   \n",
       "9  10/01/1916         0         0      1     0           49   178    19.0   \n",
       "\n",
       "   Summary  Fatalities_Description  Ground_Fatalities_Description  \n",
       "0        0                       1                              0  \n",
       "1        0                       2                              0  \n",
       "2        0                       2                              0  \n",
       "3        0                       2                              0  \n",
       "4        0                       2                              0  \n",
       "5        0                       1                              0  \n",
       "6        0                       2                              0  \n",
       "7        0                       2                              0  \n",
       "8        0                       2                              0  \n",
       "9        0                       2                              0  "
      ]
     },
     "execution_count": 318,
     "metadata": {},
     "output_type": "execute_result"
    }
   ],
   "source": [
    "clean_Fatalities_Description = {'Fatalities_Description':{'Low Fatalities':0,'Medium Fatalities':1,'High Fatalities':2}}\n",
    "df.replace(clean_Fatalities_Description,inplace=True)\n",
    "clean_Ground_Fatalities_Description = {'Ground_Fatalities_Description':{'Low Ground_Fatalities':0,'Medium Ground_Fatalities':1,'High Ground_Fatalities':2}}\n",
    "df.replace(clean_Ground_Fatalities_Description ,inplace=True)\n",
    "clean_Location = {'Location':{'others':0,'Sao Paulo, Brazil':1,'Moscow, Russia':2,'Rio de Janeiro, Brazil':3,'Anchorage, Alaska':4,'Manila, Philippines':5}}\n",
    "df.replace(clean_Location,inplace=True)\n",
    "clean_Operator = {'Operator':{'others':0,'Aeroflot':1,'Military - U.S. Air Force':2,'Air France':3,'Deutsche Lufthansa':4,'United Air Lines':5}}\n",
    "df.replace(clean_Operator,inplace=True)\n",
    "clean_Route = {'Route':{'others':0,'Training':1,'Sightseeing':2,'Test flight':3,'Test':4,'Sao Paulo - Rio de Janeiro':5}}\n",
    "df.replace(clean_Route,inplace=True)\n",
    "clean_Type = {'Type':{'others':0,'Douglas DC-3':1,'de Havilland Canada DHC-6 Twin Otter 300':2,'Douglas C-47A':3,'Douglas C-47':4,'Douglas DC-4':5}}\n",
    "df.replace(clean_Type,inplace=True)\n",
    "clean_Summary = {'Summary':{'others':0,'Crashed during takeoff.':1,'Crashed into the sea.':2,'Crashed while en route.':3,'Crashed into a mountain.':4,'Struck a mountain.':5}}\n",
    "df.replace(clean_Summary,inplace=True)\n",
    "df.head(10)"
   ]
  },
  {
   "cell_type": "code",
   "execution_count": 319,
   "metadata": {},
   "outputs": [
    {
     "data": {
      "image/png": "[encoded data removed]",
      "text/plain": [
       "<Figure size 864x720 with 2 Axes>"
      ]
     },
     "metadata": {
      "needs_background": "light"
     },
     "output_type": "display_data"
    }
   ],
   "source": [
    "def plot_correlation_map( df ):\n",
    "\n",
    "    corr = df.corr()\n",
    "\n",
    "    s , ax = plt.subplots( figsize =( 12 , 10 ) )\n",
    "\n",
    "    cmap = sns.diverging_palette( 220 , 10 , as_cmap = True )\n",
    "\n",
    "    s = sns.heatmap(\n",
    "\n",
    "        corr, \n",
    "\n",
    "        cmap = cmap,\n",
    "\n",
    "        square=True, \n",
    "\n",
    "        cbar_kws={ 'shrink' : .9 }, \n",
    "\n",
    "        ax=ax, \n",
    "\n",
    "        annot = True, \n",
    "\n",
    "        annot_kws = {'fontsize' : 12}\n",
    "\n",
    "        )\n",
    "plot_correlation_map( df )"
   ]
  },
  {
   "cell_type": "code",
   "execution_count": 321,
   "metadata": {},
   "outputs": [],
   "source": [
    "# we dont have a good correlation in this dataset\n",
    "#the best one is between Aboard and Fatalities_Description"
   ]
  },
  {
   "cell_type": "code",
   "execution_count": 322,
   "metadata": {},
   "outputs": [
    {
     "data": {
      "text/html": [
       "<div>\n",
       "<style scoped>\n",
       "    .dataframe tbody tr th:only-of-type {\n",
       "        vertical-align: middle;\n",
       "    }\n",
       "\n",
       "    .dataframe tbody tr th {\n",
       "        vertical-align: top;\n",
       "    }\n",
       "\n",
       "    .dataframe thead th {\n",
       "        text-align: right;\n",
       "    }\n",
       "</style>\n",
       "<table border=\"1\" class=\"dataframe\">\n",
       "  <thead>\n",
       "    <tr style=\"text-align: right;\">\n",
       "      <th></th>\n",
       "      <th>Aboard</th>\n",
       "    </tr>\n",
       "    <tr>\n",
       "      <th>Fatalities_Description</th>\n",
       "      <th></th>\n",
       "    </tr>\n",
       "  </thead>\n",
       "  <tbody>\n",
       "    <tr>\n",
       "      <th>0</th>\n",
       "      <td>53.409475</td>\n",
       "    </tr>\n",
       "    <tr>\n",
       "      <th>1</th>\n",
       "      <td>25.660305</td>\n",
       "    </tr>\n",
       "    <tr>\n",
       "      <th>2</th>\n",
       "      <td>24.037082</td>\n",
       "    </tr>\n",
       "  </tbody>\n",
       "</table>\n",
       "</div>"
      ],
      "text/plain": [
       "                           Aboard\n",
       "Fatalities_Description           \n",
       "0                       53.409475\n",
       "1                       25.660305\n",
       "2                       24.037082"
      ]
     },
     "execution_count": 322,
     "metadata": {},
     "output_type": "execute_result"
    }
   ],
   "source": [
    "df[['Aboard','Fatalities_Description']].groupby(['Fatalities_Description'],as_index=True).mean()"
   ]
  },
  {
   "cell_type": "code",
   "execution_count": 323,
   "metadata": {},
   "outputs": [
    {
     "data": {
      "text/html": [
       "<div>\n",
       "<style scoped>\n",
       "    .dataframe tbody tr th:only-of-type {\n",
       "        vertical-align: middle;\n",
       "    }\n",
       "\n",
       "    .dataframe tbody tr th {\n",
       "        vertical-align: top;\n",
       "    }\n",
       "\n",
       "    .dataframe thead th {\n",
       "        text-align: right;\n",
       "    }\n",
       "</style>\n",
       "<table border=\"1\" class=\"dataframe\">\n",
       "  <thead>\n",
       "    <tr style=\"text-align: right;\">\n",
       "      <th></th>\n",
       "      <th>Aboard</th>\n",
       "    </tr>\n",
       "    <tr>\n",
       "      <th>Ground_Fatalities_Description</th>\n",
       "      <th></th>\n",
       "    </tr>\n",
       "  </thead>\n",
       "  <tbody>\n",
       "    <tr>\n",
       "      <th>0</th>\n",
       "      <td>27.455769</td>\n",
       "    </tr>\n",
       "    <tr>\n",
       "      <th>1</th>\n",
       "      <td>29.564516</td>\n",
       "    </tr>\n",
       "    <tr>\n",
       "      <th>2</th>\n",
       "      <td>39.000000</td>\n",
       "    </tr>\n",
       "  </tbody>\n",
       "</table>\n",
       "</div>"
      ],
      "text/plain": [
       "                                  Aboard\n",
       "Ground_Fatalities_Description           \n",
       "0                              27.455769\n",
       "1                              29.564516\n",
       "2                              39.000000"
      ]
     },
     "execution_count": 323,
     "metadata": {},
     "output_type": "execute_result"
    }
   ],
   "source": [
    "df[['Aboard','Ground_Fatalities_Description']].groupby(['Ground_Fatalities_Description'],as_index=True).mean()"
   ]
  },
  {
   "cell_type": "code",
   "execution_count": 324,
   "metadata": {},
   "outputs": [
    {
     "data": {
      "text/html": [
       "<div>\n",
       "<style scoped>\n",
       "    .dataframe tbody tr th:only-of-type {\n",
       "        vertical-align: middle;\n",
       "    }\n",
       "\n",
       "    .dataframe tbody tr th {\n",
       "        vertical-align: top;\n",
       "    }\n",
       "\n",
       "    .dataframe thead th {\n",
       "        text-align: right;\n",
       "    }\n",
       "</style>\n",
       "<table border=\"1\" class=\"dataframe\">\n",
       "  <thead>\n",
       "    <tr style=\"text-align: right;\">\n",
       "      <th></th>\n",
       "      <th>Fatalities_Description</th>\n",
       "    </tr>\n",
       "    <tr>\n",
       "      <th>Ground_Fatalities_Description</th>\n",
       "      <th></th>\n",
       "    </tr>\n",
       "  </thead>\n",
       "  <tbody>\n",
       "    <tr>\n",
       "      <th>0</th>\n",
       "      <td>1.676731</td>\n",
       "    </tr>\n",
       "    <tr>\n",
       "      <th>1</th>\n",
       "      <td>1.612903</td>\n",
       "    </tr>\n",
       "    <tr>\n",
       "      <th>2</th>\n",
       "      <td>1.833333</td>\n",
       "    </tr>\n",
       "  </tbody>\n",
       "</table>\n",
       "</div>"
      ],
      "text/plain": [
       "                               Fatalities_Description\n",
       "Ground_Fatalities_Description                        \n",
       "0                                            1.676731\n",
       "1                                            1.612903\n",
       "2                                            1.833333"
      ]
     },
     "execution_count": 324,
     "metadata": {},
     "output_type": "execute_result"
    }
   ],
   "source": [
    "df[['Fatalities_Description','Ground_Fatalities_Description']].groupby(['Ground_Fatalities_Description'],as_index=True).mean()"
   ]
  },
  {
   "cell_type": "code",
   "execution_count": 325,
   "metadata": {},
   "outputs": [
    {
     "data": {
      "image/png": "[encoded data removed]",
      "text/plain": [
       "<Figure size 432x288 with 1 Axes>"
      ]
     },
     "metadata": {
      "needs_background": "light"
     },
     "output_type": "display_data"
    }
   ],
   "source": [
    "plt.plot(df.Aboard,df.Fatalities_Description,'ro')\n",
    "plt.show()"
   ]
  },
  {
   "cell_type": "code",
   "execution_count": 326,
   "metadata": {},
   "outputs": [
    {
     "data": {
      "image/png": "[encoded data removed]",
      "text/plain": [
       "<Figure size 432x288 with 1 Axes>"
      ]
     },
     "metadata": {
      "needs_background": "light"
     },
     "output_type": "display_data"
    }
   ],
   "source": [
    "plt.plot(df.Route,df.Fatalities_Description,'ro')\n",
    "plt.show()"
   ]
  },
  {
   "cell_type": "code",
   "execution_count": 327,
   "metadata": {},
   "outputs": [
    {
     "data": {
      "image/png": "[encoded data removed]",
      "text/plain": [
       "<Figure size 432x288 with 1 Axes>"
      ]
     },
     "metadata": {
      "needs_background": "light"
     },
     "output_type": "display_data"
    }
   ],
   "source": [
    "plt.plot(df.Summary,df.Fatalities_Description,'ro')\n",
    "plt.show()"
   ]
  },
  {
   "cell_type": "markdown",
   "metadata": {},
   "source": [
    "# linear regression"
   ]
  },
  {
   "cell_type": "code",
   "execution_count": 328,
   "metadata": {},
   "outputs": [
    {
     "name": "stdout",
     "output_type": "stream",
     "text": [
      "MSE 0.4413625715456407\n",
      "R squared 0.0043989028353114135\n"
     ]
    }
   ],
   "source": [
    "import numpy as np\n",
    "import pandas as pd \n",
    "from sklearn.model_selection import train_test_split\n",
    "from sklearn.linear_model import LinearRegression\n",
    "from sklearn.metrics import mean_squared_error\n",
    "from sklearn import metrics\n",
    "\n",
    "x=df[\"Summary\"].values[:,np.newaxis]\n",
    "y=df[\"Fatalities_Description\"].values\n",
    "\n",
    "x_train,x_test,y_train,y_test=train_test_split(x,y,test_size=0.35,random_state=40) \n",
    "model=LinearRegression()   \n",
    "model.fit(x_train,y_train)  \n",
    "predicted=model.predict(x_test) \n",
    "\n",
    "\n",
    "print(\"MSE\", mean_squared_error(y_test,predicted))\n",
    "print(\"R squared\", metrics.r2_score(y_test,predicted))"
   ]
  },
  {
   "cell_type": "code",
   "execution_count": 331,
   "metadata": {},
   "outputs": [
    {
     "data": {
      "image/png": "[encoded data removed]",
      "text/plain": [
       "<Figure size 432x288 with 1 Axes>"
      ]
     },
     "metadata": {
      "needs_background": "light"
     },
     "output_type": "display_data"
    }
   ],
   "source": [
    "plt.scatter(x,y,color=\"r\")\n",
    "plt.title(\"Linear Regression\")\n",
    "plt.ylabel(\"Fatalities_Description\")\n",
    "plt.xlabel(\"Summary\")\n",
    "plt.plot(x,model.predict(x),color=\"k\")\n",
    "plt.show()"
   ]
  },
  {
   "cell_type": "code",
   "execution_count": 330,
   "metadata": {},
   "outputs": [
    {
     "name": "stdout",
     "output_type": "stream",
     "text": [
      "MSE 0.4245995077489275\n",
      "R squared 0.04221208814779431\n"
     ]
    }
   ],
   "source": [
    "x=df[\"Aboard\"].values[:,np.newaxis]\n",
    "y=df[\"Fatalities_Description\"].values\n",
    "\n",
    "x_train,x_test,y_train,y_test=train_test_split(x,y,test_size=0.35,random_state=40) \n",
    "model=LinearRegression()   \n",
    "model.fit(x_train,y_train)  \n",
    "predicted=model.predict(x_test) \n",
    "\n",
    "\n",
    "print(\"MSE\", mean_squared_error(y_test,predicted))\n",
    "print(\"R squared\", metrics.r2_score(y_test,predicted))"
   ]
  },
  {
   "cell_type": "code",
   "execution_count": 332,
   "metadata": {},
   "outputs": [
    {
     "data": {
      "image/png": "[encoded data removed]",
      "text/plain": [
       "<Figure size 432x288 with 1 Axes>"
      ]
     },
     "metadata": {
      "needs_background": "light"
     },
     "output_type": "display_data"
    }
   ],
   "source": [
    "plt.scatter(x,y,color=\"r\")\n",
    "plt.title(\"Linear Regression\")\n",
    "plt.ylabel(\"Fatalities_Description\")\n",
    "plt.xlabel(\"Aboard\")\n",
    "plt.plot(x,model.predict(x),color=\"k\")\n",
    "plt.show()"
   ]
  },
  {
   "cell_type": "markdown",
   "metadata": {},
   "source": [
    "# Multi-linear regression\n"
   ]
  },
  {
   "cell_type": "code",
   "execution_count": 333,
   "metadata": {},
   "outputs": [
    {
     "name": "stdout",
     "output_type": "stream",
     "text": [
      "MSE 0.42427068929514955\n",
      "R squared 0.042953818494803286\n"
     ]
    }
   ],
   "source": [
    "x=df[[\"Aboard\", \"Summary\", \"Route\", \"Operator\", \"Type\"]] \n",
    "y=df[\"Fatalities_Description\"].values\n",
    "x_train,x_test,y_train,y_test=train_test_split(x,y,test_size=0.35,random_state=40) \n",
    "\n",
    "model=LinearRegression() \n",
    "model.fit(x_train,y_train) \n",
    "predicted=model.predict(x_test) \n",
    "\n",
    "print(\"MSE\", mean_squared_error(y_test,predicted))\n",
    "print(\"R squared\", metrics.r2_score(y_test,predicted))"
   ]
  },
  {
   "cell_type": "markdown",
   "metadata": {},
   "source": [
    "# Polynomial regression"
   ]
  },
  {
   "cell_type": "code",
   "execution_count": 334,
   "metadata": {},
   "outputs": [
    {
     "name": "stdout",
     "output_type": "stream",
     "text": [
      "MSE:  0.7835947566342655\n",
      "R squared:  -0.7675893918814043\n"
     ]
    }
   ],
   "source": [
    "from sklearn.preprocessing import PolynomialFeatures \n",
    "\n",
    "from sklearn.metrics import mean_squared_error\n",
    "from sklearn import metrics\n",
    "x= df[[\"Aboard\", \"Summary\", \"Route\", \"Operator\", \"Type\",\"Location\"]]\n",
    "y= df[\"Fatalities_Description\"].values\n",
    "\n",
    "x_train, x_test, y_train, y_test = train_test_split(x, y, test_size=0.35, random_state=40)  \n",
    "lg=LinearRegression()\n",
    "poly=PolynomialFeatures(degree=3)\n",
    "\n",
    "x_train_fit = poly.fit_transform(x_train) \n",
    "lg.fit(x_train_fit, y_train)\n",
    "x_test_ = poly.fit_transform(x_test)\n",
    "predicted = lg.predict(x_test_)\n",
    "\n",
    "print(\"MSE: \", metrics.mean_squared_error(y_test, predicted))\n",
    "print(\"R squared: \", metrics.r2_score(y_test,predicted))"
   ]
  },
  {
   "cell_type": "markdown",
   "metadata": {},
   "source": [
    "# Decision tree"
   ]
  },
  {
   "cell_type": "code",
   "execution_count": 338,
   "metadata": {},
   "outputs": [],
   "source": [
    "#importing relevant libraries\n",
    "from sklearn.model_selection import train_test_split\n",
    "from sklearn import tree   \n",
    "from sklearn.tree import DecisionTreeClassifier\n",
    "from sklearn.metrics import accuracy_score\n",
    "#features extraction\n",
    "x=df.drop([\"Fatalities_Description\", \"Date\", \"Registration\", \"cn/In\"], axis=1)\n",
    "y= df[\"Fatalities_Description\"]\n",
    "\n",
    "#splitting data\n",
    "x_train, x_test, y_train, y_test = train_test_split(x,y, test_size=0.20,random_state=10)\n",
    "\n",
    "#applying tree algorithm\n",
    "#dtree = tree.DecisionTreeClassifier() \n"
   ]
  },
  {
   "cell_type": "code",
   "execution_count": 339,
   "metadata": {},
   "outputs": [
    {
     "name": "stdout",
     "output_type": "stream",
     "text": [
      "score:0.7941176470588235\n"
     ]
    }
   ],
   "source": [
    "dtree=tree.DecisionTreeClassifier(criterion = \"gini\",splitter= 'random', max_leaf_nodes=10, min_samples_leaf=5, max_depth=5)\n",
    "dtree.fit(x_train, y_train)   #fitting our model\n",
    "y_pred=dtree.predict(x_test)   # evaluating our model\n",
    "print(\"score:{}\".format(accuracy_score(y_test, y_pred)))"
   ]
  },
  {
   "cell_type": "code",
   "execution_count": 340,
   "metadata": {},
   "outputs": [
    {
     "data": {
      "text/plain": [
       "[Text(1046.25, 996.6, 'Aboard <= 121.629\\ngini = 0.358\\nsamples = 100.0%\\nvalue = [0.114, 0.1, 0.787]'),\n",
       " Text(657.6428571428571, 815.4000000000001, 'Aboard <= 26.025\\ngini = 0.346\\nsamples = 95.9%\\nvalue = [0.104, 0.1, 0.796]'),\n",
       " Text(239.14285714285714, 634.2, 'Aboard <= 5.953\\ngini = 0.309\\nsamples = 71.4%\\nvalue = [0.08, 0.099, 0.821]'),\n",
       " Text(119.57142857142857, 453.0, 'gini = 0.233\\nsamples = 27.8%\\nvalue = [0.019, 0.113, 0.868]'),\n",
       " Text(358.7142857142857, 453.0, 'Type <= 2.861\\ngini = 0.352\\nsamples = 43.6%\\nvalue = [0.119, 0.09, 0.791]'),\n",
       " Text(239.14285714285714, 271.79999999999995, 'gini = 0.356\\nsamples = 42.5%\\nvalue = [0.122, 0.09, 0.788]'),\n",
       " Text(478.2857142857143, 271.79999999999995, 'gini = 0.187\\nsamples = 1.2%\\nvalue = [0.02, 0.082, 0.898]'),\n",
       " Text(1076.142857142857, 634.2, 'Location <= 1.425\\ngini = 0.439\\nsamples = 24.5%\\nvalue = [0.173, 0.106, 0.721]'),\n",
       " Text(956.5714285714286, 453.0, 'Aboard <= 94.21\\ngini = 0.436\\nsamples = 24.2%\\nvalue = [0.171, 0.105, 0.724]'),\n",
       " Text(717.4285714285714, 271.79999999999995, 'Aboard <= 50.038\\ngini = 0.427\\nsamples = 22.0%\\nvalue = [0.161, 0.108, 0.732]'),\n",
       " Text(597.8571428571429, 90.59999999999991, 'gini = 0.403\\nsamples = 14.0%\\nvalue = [0.145, 0.103, 0.752]'),\n",
       " Text(837.0, 90.59999999999991, 'gini = 0.466\\nsamples = 8.0%\\nvalue = [0.188, 0.116, 0.696]'),\n",
       " Text(1195.7142857142858, 271.79999999999995, 'Operator <= 0.122\\ngini = 0.501\\nsamples = 2.1%\\nvalue = [0.278, 0.078, 0.644]'),\n",
       " Text(1076.142857142857, 90.59999999999991, 'gini = 0.531\\nsamples = 1.8%\\nvalue = [0.32, 0.08, 0.6]'),\n",
       " Text(1315.2857142857142, 90.59999999999991, 'gini = 0.24\\nsamples = 0.4%\\nvalue = [0.067, 0.067, 0.867]'),\n",
       " Text(1195.7142857142858, 453.0, 'gini = 0.602\\nsamples = 0.3%\\nvalue = [0.357, 0.143, 0.5]'),\n",
       " Text(1434.857142857143, 815.4000000000001, 'Operator <= 0.526\\ngini = 0.544\\nsamples = 4.1%\\nvalue = [0.343, 0.081, 0.576]'),\n",
       " Text(1315.2857142857142, 634.2, 'gini = 0.526\\nsamples = 3.5%\\nvalue = [0.322, 0.074, 0.604]'),\n",
       " Text(1554.4285714285713, 634.2, 'gini = 0.601\\nsamples = 0.5%\\nvalue = [0.478, 0.13, 0.391]')]"
      ]
     },
     "execution_count": 340,
     "metadata": {},
     "output_type": "execute_result"
    },
    {
     "data": {
      "image/png": "[encoded data removed]",
      "text/plain": [
       "<Figure size 2160x1440 with 1 Axes>"
      ]
     },
     "metadata": {
      "needs_background": "light"
     },
     "output_type": "display_data"
    }
   ],
   "source": [
    "import matplotlib.pyplot as plt\n",
    "from sklearn.tree import plot_tree\n",
    "plt.figure(figsize = (30,20))\n",
    "plot_tree(dtree, filled = True, feature_names = x.columns, proportion = True)"
   ]
  },
  {
   "cell_type": "code",
   "execution_count": 341,
   "metadata": {},
   "outputs": [],
   "source": [
    "import pandas as pd\n",
    "from sklearn.model_selection import train_test_split\n",
    "from sklearn.ensemble import RandomForestClassifier #Importing Random Forest Classifier\n",
    "from sklearn import metrics  # Importing metrics to test accuracy\n",
    "X=df.drop([\"Fatalities_Description\", \"Date\", \"Registration\", \"cn/In\"], axis=1)\n",
    "y=df['Fatalities_Description']  #target\n",
    "x_train, x_test, y_train, y_test= train_test_split(X, y, test_size=0.3) #splitting data with test size of 30%"
   ]
  },
  {
   "cell_type": "code",
   "execution_count": 342,
   "metadata": {},
   "outputs": [
    {
     "name": "stdout",
     "output_type": "stream",
     "text": [
      "Accuracy: 0.7539531941808981\n"
     ]
    }
   ],
   "source": [
    "clf=RandomForestClassifier(n_estimators=10)  #Creating a random forest with 100 decision trees\n",
    "clf.fit(x_train, y_train)  #Training our model\n",
    "y_pred=clf.predict(x_test)  #testing our model\n",
    "print(\"Accuracy:\", metrics.accuracy_score(y_test, y_pred))  #Measuring the accuracy of our model"
   ]
  },
  {
   "cell_type": "code",
   "execution_count": 344,
   "metadata": {},
   "outputs": [
    {
     "name": "stdout",
     "output_type": "stream",
     "text": [
      "Accuracy: 0.7533206831119544\n"
     ]
    }
   ],
   "source": [
    "clf=RandomForestClassifier(n_estimators=300)  #Creating a random forest with 200 decision trees\n",
    "clf.fit(x_train, y_train)  #Training our model\n",
    "y_pred=clf.predict(x_test)  #testing our model\n",
    "print(\"Accuracy:\", metrics.accuracy_score(y_test, y_pred))  #Measuring the accuracy of our model"
   ]
  },
  {
   "cell_type": "code",
   "execution_count": 345,
   "metadata": {},
   "outputs": [
    {
     "data": {
      "text/html": [
       "<div>\n",
       "<style scoped>\n",
       "    .dataframe tbody tr th:only-of-type {\n",
       "        vertical-align: middle;\n",
       "    }\n",
       "\n",
       "    .dataframe tbody tr th {\n",
       "        vertical-align: top;\n",
       "    }\n",
       "\n",
       "    .dataframe thead th {\n",
       "        text-align: right;\n",
       "    }\n",
       "</style>\n",
       "<table border=\"1\" class=\"dataframe\">\n",
       "  <thead>\n",
       "    <tr style=\"text-align: right;\">\n",
       "      <th></th>\n",
       "      <th>Date</th>\n",
       "      <th>Location</th>\n",
       "      <th>Operator</th>\n",
       "      <th>Route</th>\n",
       "      <th>Type</th>\n",
       "      <th>Registration</th>\n",
       "      <th>cn/In</th>\n",
       "      <th>Aboard</th>\n",
       "      <th>Summary</th>\n",
       "      <th>Fatalities_Description</th>\n",
       "      <th>Ground_Fatalities_Description</th>\n",
       "    </tr>\n",
       "  </thead>\n",
       "  <tbody>\n",
       "    <tr>\n",
       "      <th>0</th>\n",
       "      <td>09/17/1908</td>\n",
       "      <td>0</td>\n",
       "      <td>0</td>\n",
       "      <td>0</td>\n",
       "      <td>0</td>\n",
       "      <td>49</td>\n",
       "      <td>1</td>\n",
       "      <td>2.0</td>\n",
       "      <td>0</td>\n",
       "      <td>1</td>\n",
       "      <td>0</td>\n",
       "    </tr>\n",
       "    <tr>\n",
       "      <th>1</th>\n",
       "      <td>07/12/1912</td>\n",
       "      <td>0</td>\n",
       "      <td>0</td>\n",
       "      <td>3</td>\n",
       "      <td>0</td>\n",
       "      <td>49</td>\n",
       "      <td>178</td>\n",
       "      <td>5.0</td>\n",
       "      <td>0</td>\n",
       "      <td>2</td>\n",
       "      <td>0</td>\n",
       "    </tr>\n",
       "    <tr>\n",
       "      <th>2</th>\n",
       "      <td>08/06/1913</td>\n",
       "      <td>0</td>\n",
       "      <td>0</td>\n",
       "      <td>1</td>\n",
       "      <td>0</td>\n",
       "      <td>49</td>\n",
       "      <td>178</td>\n",
       "      <td>1.0</td>\n",
       "      <td>0</td>\n",
       "      <td>2</td>\n",
       "      <td>0</td>\n",
       "    </tr>\n",
       "    <tr>\n",
       "      <th>3</th>\n",
       "      <td>09/09/1913</td>\n",
       "      <td>0</td>\n",
       "      <td>0</td>\n",
       "      <td>1</td>\n",
       "      <td>0</td>\n",
       "      <td>49</td>\n",
       "      <td>178</td>\n",
       "      <td>20.0</td>\n",
       "      <td>0</td>\n",
       "      <td>2</td>\n",
       "      <td>0</td>\n",
       "    </tr>\n",
       "    <tr>\n",
       "      <th>4</th>\n",
       "      <td>10/17/1913</td>\n",
       "      <td>0</td>\n",
       "      <td>0</td>\n",
       "      <td>1</td>\n",
       "      <td>0</td>\n",
       "      <td>49</td>\n",
       "      <td>178</td>\n",
       "      <td>30.0</td>\n",
       "      <td>0</td>\n",
       "      <td>2</td>\n",
       "      <td>0</td>\n",
       "    </tr>\n",
       "    <tr>\n",
       "      <th>...</th>\n",
       "      <td>...</td>\n",
       "      <td>...</td>\n",
       "      <td>...</td>\n",
       "      <td>...</td>\n",
       "      <td>...</td>\n",
       "      <td>...</td>\n",
       "      <td>...</td>\n",
       "      <td>...</td>\n",
       "      <td>...</td>\n",
       "      <td>...</td>\n",
       "      <td>...</td>\n",
       "    </tr>\n",
       "    <tr>\n",
       "      <th>5263</th>\n",
       "      <td>05/20/2009</td>\n",
       "      <td>0</td>\n",
       "      <td>0</td>\n",
       "      <td>0</td>\n",
       "      <td>0</td>\n",
       "      <td>A-1325</td>\n",
       "      <td>1982</td>\n",
       "      <td>112.0</td>\n",
       "      <td>0</td>\n",
       "      <td>2</td>\n",
       "      <td>0</td>\n",
       "    </tr>\n",
       "    <tr>\n",
       "      <th>5264</th>\n",
       "      <td>05/26/2009</td>\n",
       "      <td>0</td>\n",
       "      <td>0</td>\n",
       "      <td>0</td>\n",
       "      <td>0</td>\n",
       "      <td>9Q-CSA</td>\n",
       "      <td>5005</td>\n",
       "      <td>4.0</td>\n",
       "      <td>0</td>\n",
       "      <td>2</td>\n",
       "      <td>0</td>\n",
       "    </tr>\n",
       "    <tr>\n",
       "      <th>5265</th>\n",
       "      <td>06/01/2009</td>\n",
       "      <td>0</td>\n",
       "      <td>3</td>\n",
       "      <td>0</td>\n",
       "      <td>0</td>\n",
       "      <td>F-GZCP</td>\n",
       "      <td>660</td>\n",
       "      <td>228.0</td>\n",
       "      <td>0</td>\n",
       "      <td>2</td>\n",
       "      <td>0</td>\n",
       "    </tr>\n",
       "    <tr>\n",
       "      <th>5266</th>\n",
       "      <td>06/07/2009</td>\n",
       "      <td>0</td>\n",
       "      <td>0</td>\n",
       "      <td>0</td>\n",
       "      <td>0</td>\n",
       "      <td>C-FJJR</td>\n",
       "      <td>424</td>\n",
       "      <td>1.0</td>\n",
       "      <td>0</td>\n",
       "      <td>2</td>\n",
       "      <td>0</td>\n",
       "    </tr>\n",
       "    <tr>\n",
       "      <th>5267</th>\n",
       "      <td>06/08/2009</td>\n",
       "      <td>0</td>\n",
       "      <td>0</td>\n",
       "      <td>0</td>\n",
       "      <td>0</td>\n",
       "      <td>49</td>\n",
       "      <td>178</td>\n",
       "      <td>13.0</td>\n",
       "      <td>0</td>\n",
       "      <td>2</td>\n",
       "      <td>0</td>\n",
       "    </tr>\n",
       "  </tbody>\n",
       "</table>\n",
       "<p>5268 rows × 11 columns</p>\n",
       "</div>"
      ],
      "text/plain": [
       "            Date  Location  Operator  Route  Type Registration cn/In  Aboard  \\\n",
       "0     09/17/1908         0         0      0     0           49     1     2.0   \n",
       "1     07/12/1912         0         0      3     0           49   178     5.0   \n",
       "2     08/06/1913         0         0      1     0           49   178     1.0   \n",
       "3     09/09/1913         0         0      1     0           49   178    20.0   \n",
       "4     10/17/1913         0         0      1     0           49   178    30.0   \n",
       "...          ...       ...       ...    ...   ...          ...   ...     ...   \n",
       "5263  05/20/2009         0         0      0     0       A-1325  1982   112.0   \n",
       "5264  05/26/2009         0         0      0     0       9Q-CSA  5005     4.0   \n",
       "5265  06/01/2009         0         3      0     0       F-GZCP   660   228.0   \n",
       "5266  06/07/2009         0         0      0     0      C-FJJR    424     1.0   \n",
       "5267  06/08/2009         0         0      0     0           49   178    13.0   \n",
       "\n",
       "      Summary  Fatalities_Description  Ground_Fatalities_Description  \n",
       "0           0                       1                              0  \n",
       "1           0                       2                              0  \n",
       "2           0                       2                              0  \n",
       "3           0                       2                              0  \n",
       "4           0                       2                              0  \n",
       "...       ...                     ...                            ...  \n",
       "5263        0                       2                              0  \n",
       "5264        0                       2                              0  \n",
       "5265        0                       2                              0  \n",
       "5266        0                       2                              0  \n",
       "5267        0                       2                              0  \n",
       "\n",
       "[5268 rows x 11 columns]"
      ]
     },
     "execution_count": 345,
     "metadata": {},
     "output_type": "execute_result"
    }
   ],
   "source": [
    "df"
   ]
  },
  {
   "cell_type": "markdown",
   "metadata": {},
   "source": [
    "# knn"
   ]
  },
  {
   "cell_type": "code",
   "execution_count": 346,
   "metadata": {},
   "outputs": [],
   "source": [
    "import pandas as pd\n",
    "\n",
    "\n",
    "\n",
    "x=df[['Location','Operator','Route','Type','Aboard','Summary','Ground_Fatalities_Description']]\n",
    "y=df['Fatalities_Description']"
   ]
  },
  {
   "cell_type": "code",
   "execution_count": 347,
   "metadata": {},
   "outputs": [
    {
     "name": "stdout",
     "output_type": "stream",
     "text": [
      "Acuuracy= 0.7960151802656547\n"
     ]
    }
   ],
   "source": [
    "from sklearn.model_selection import train_test_split\n",
    "from sklearn.neighbors import KNeighborsClassifier\n",
    "from sklearn.metrics import accuracy_score\n",
    "\n",
    "x_train,x_test,y_train,y_test=train_test_split(x,y,test_size=0.2,random_state=30) #split our data with test size of 20% \n",
    "\n",
    "knn=KNeighborsClassifier(n_neighbors=20) #build our knn classifier\n",
    "knn.fit(x_train,y_train) #Training KNN classifier\n",
    "y_pred=knn.predict(x_test)  #Testing\n",
    "print('Acuuracy=',accuracy_score(y_pred,y_test))"
   ]
  },
  {
   "cell_type": "code",
   "execution_count": 348,
   "metadata": {},
   "outputs": [
    {
     "name": "stdout",
     "output_type": "stream",
     "text": [
      "Accuracy for k= 1 is: 0.8\n",
      "Accuracy for k= 2 is: 0.8\n",
      "Accuracy for k= 3 is: 0.79\n",
      "Accuracy for k= 4 is: 0.79\n",
      "Accuracy for k= 5 is: 0.79\n",
      "Accuracy for k= 6 is: 0.8\n",
      "Accuracy for k= 7 is: 0.79\n",
      "Accuracy for k= 8 is: 0.8\n",
      "Accuracy for k= 9 is: 0.8\n",
      "Accuracy for k= 10 is: 0.8\n",
      "Accuracy for k= 11 is: 0.8\n",
      "Accuracy for k= 12 is: 0.8\n",
      "Accuracy for k= 13 is: 0.8\n",
      "Accuracy for k= 14 is: 0.8\n",
      "Accuracy for k= 15 is: 0.79\n",
      "Accuracy for k= 16 is: 0.79\n",
      "Accuracy for k= 17 is: 0.79\n",
      "Accuracy for k= 18 is: 0.79\n",
      "Accuracy for k= 19 is: 0.79\n",
      "Accuracy for k= 20 is: 0.79\n",
      "Accuracy for k= 21 is: 0.79\n",
      "Accuracy for k= 22 is: 0.78\n",
      "Accuracy for k= 23 is: 0.78\n",
      "Accuracy for k= 24 is: 0.77\n",
      "Accuracy for k= 25 is: 0.76\n",
      "Accuracy for k= 26 is: 0.74\n",
      "Accuracy for k= 27 is: 0.71\n",
      "Accuracy for k= 28 is: 0.57\n",
      "Accuracy for k= 29 is: 0.7\n"
     ]
    }
   ],
   "source": [
    "n_neighbors=30\n",
    "scores=[]\n",
    "for k in range(1,30):\n",
    "    knn=KNeighborsClassifier(n_neighbors-k)\n",
    "    knn.fit(x_train,y_train)\n",
    "    y_pred=knn.predict(x_test)\n",
    "    print('Accuracy for k=',k,'is:',round(accuracy_score(y_pred,y_test),2))\n",
    "    scores.append(round(accuracy_score(y_pred,y_test),2))"
   ]
  },
  {
   "cell_type": "code",
   "execution_count": 349,
   "metadata": {},
   "outputs": [
    {
     "data": {
      "text/plain": [
       "Text(0, 0.5, 'Testing Accuracy')"
      ]
     },
     "execution_count": 349,
     "metadata": {},
     "output_type": "execute_result"
    },
    {
     "data": {
      "image/png": "[encoded data removed]",
      "text/plain": [
       "<Figure size 432x288 with 1 Axes>"
      ]
     },
     "metadata": {
      "needs_background": "light"
     },
     "output_type": "display_data"
    }
   ],
   "source": [
    "import matplotlib.pyplot as plt\n",
    "plt.plot(range(1,30),scores)\n",
    "plt.xlabel('Value K for KNN')\n",
    "plt.ylabel('Testing Accuracy')"
   ]
  },
  {
   "cell_type": "code",
   "execution_count": null,
   "metadata": {},
   "outputs": [],
   "source": []
  }
 ],
 "metadata": {
  "kernelspec": {
   "display_name": "Python 3",
   "language": "python",
   "name": "python3"
  },
  "language_info": {
   "codemirror_mode": {
    "name": "ipython",
    "version": 3
   },
   "file_extension": ".py",
   "mimetype": "text/x-python",
   "name": "python",
   "nbconvert_exporter": "python",
   "pygments_lexer": "ipython3",
   "version": "3.8.3"
  }
 },
 "nbformat": 4,
 "nbformat_minor": 4
}
